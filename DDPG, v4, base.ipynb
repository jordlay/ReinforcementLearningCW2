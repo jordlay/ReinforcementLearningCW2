{
 "cells": [
  {
   "cell_type": "code",
   "execution_count": 1,
   "id": "33fd9c6e",
   "metadata": {},
   "outputs": [],
   "source": [
    "import numpy as np\n",
    "import gym\n",
    "import random\n",
    "import copy\n",
    "from collections import deque\n",
    "\n",
    "import torch\n",
    "import torch.nn as nn\n",
    "import torch.nn.functional as F\n",
    "import torch.optim as optim\n",
    "\n",
    "from matplotlib import pyplot as plt"
   ]
  },
  {
   "cell_type": "code",
   "execution_count": 2,
   "id": "efce3ee2",
   "metadata": {},
   "outputs": [],
   "source": [
    "class Actor(nn.Module):\n",
    "    def __init__(self, scaling, state_size, hidden_size, action_size):\n",
    "        super(Actor, self).__init__()\n",
    "        self.fc1 = nn.Linear(state_size, hidden_size)\n",
    "        self.fc2 = nn.Linear(hidden_size, hidden_size)\n",
    "        self.fc3 = nn.Linear(hidden_size, action_size)\n",
    "        \n",
    "    def forward(self, state):\n",
    "        x = F.relu(self.fc1(state))\n",
    "        x = F.relu(self.fc2(x))\n",
    "        return torch.tanh(self.fc3(x)) * scaling"
   ]
  },
  {
   "cell_type": "code",
   "execution_count": 3,
   "id": "3a71d4c3",
   "metadata": {},
   "outputs": [],
   "source": [
    "class Critic(nn.Module):\n",
    "    def __init__(self, state_size, hidden_size, action_size):\n",
    "        super(Critic, self).__init__()\n",
    "        self.fc1 = nn.Linear(state_size + action_size, hidden_size)\n",
    "        self.fc2 = nn.Linear(hidden_size, hidden_size)\n",
    "        self.fc3 = nn.Linear(hidden_size, 1)\n",
    "    \n",
    "    def forward(self, state, action):\n",
    "        x = torch.cat([state, action], 1)\n",
    "        x = F.relu(self.fc1(x))\n",
    "        x = F.relu(self.fc2(x))\n",
    "        return self.fc3(x)"
   ]
  },
  {
   "cell_type": "code",
   "execution_count": 4,
   "id": "5b4f5cad",
   "metadata": {},
   "outputs": [],
   "source": [
    "class DDPG_Agent():\n",
    "    def __init__(self, scaling, render, buffer_size, batch_size, gamma, tau, noise,\n",
    "                state_size, hidden_size, action_size, actor_lr, critic_lr):\n",
    "        \n",
    "        self.scaling = scaling\n",
    "        self.render = render\n",
    "        self.buffer_size = buffer_size\n",
    "        self.batch_size = batch_size\n",
    "        self.gamma = gamma\n",
    "        self.tau = tau\n",
    "        self.noise = noise\n",
    "        \n",
    "        self.state_size = state_size\n",
    "        self.hidden_size = hidden_size\n",
    "        self.action_size = action_size\n",
    "        self.actor_lr = actor_lr\n",
    "        self.critic_lr = critic_lr\n",
    "        \n",
    "        self.actor = Actor(scaling, state_size, hidden_size, action_size)\n",
    "        self.critic = Critic(state_size, hidden_size, action_size)\n",
    "        self.target_actor = copy.deepcopy(self.actor)\n",
    "        self.target_critic = copy.deepcopy(self.critic)\n",
    "        self.actor_optimizer = torch.optim.Adam(self.actor.parameters(), lr = actor_lr)\n",
    "        self.critic_optimizer = torch.optim.Adam(self.critic.parameters(), lr = critic_lr)\n",
    "        \n",
    "        self.state_memory = []\n",
    "        self.next_state_memory = []\n",
    "        self.action_memory = []\n",
    "        self.reward_memory = []\n",
    "        self.terminal_memory = []\n",
    "        self.memory_counter = 0\n",
    "        \n",
    "    def train(self):\n",
    "        state = env.reset()\n",
    "        ep_reward = 0\n",
    "        num_step = 0\n",
    "        terminal = False\n",
    "        \n",
    "        while not terminal:\n",
    "            \n",
    "            if self.render:\n",
    "                env.render()\n",
    "                \n",
    "            tensor_state = torch.from_numpy(state).float()            \n",
    "            action = self.actor(tensor_state)\n",
    "            action = torch.add(action, torch.from_numpy(np.random.normal(0, self.noise, self.action_size)))\n",
    "            action = action.detach().numpy()\n",
    "            next_state, reward, terminal, _ = env.step(action)\n",
    "            ep_reward += reward\n",
    "\n",
    "            if self.memory_counter < self.buffer_size: \n",
    "                self.state_memory.append(state)\n",
    "                self.next_state_memory.append(next_state)\n",
    "                self.action_memory.append(action)\n",
    "                self.reward_memory.append(reward)\n",
    "                self.terminal_memory.append(1 - terminal) # terminal = 1 if true so 0 if terminal            \n",
    "            else:     \n",
    "                index = self.memory_counter % self.buffer_size\n",
    "                self.state_memory[index] = state\n",
    "                self.next_state_memory[index] = next_state\n",
    "                self.action_memory[index] = action\n",
    "                self.reward_memory[index] = reward\n",
    "                self.terminal_memory[index] = 1 - terminal\n",
    "            self.memory_counter += 1 \n",
    "                \n",
    "            # If more items in memory list than batch size, sample items from each memory list\n",
    "            if self.memory_counter >= self.batch_size: \n",
    "                batch = random.sample(range(len(self.state_memory)), self.batch_size) \n",
    "                states = []\n",
    "                next_states = []\n",
    "                actions = []\n",
    "                rewards = []\n",
    "                terminals = []\n",
    "                \n",
    "                for item in batch:\n",
    "                    states.append(self.state_memory[item])\n",
    "                    next_states.append(self.next_state_memory[item])\n",
    "                    actions.append(self.action_memory[item])\n",
    "                    rewards.append(self.reward_memory[item])\n",
    "                    terminals.append(self.terminal_memory[item])\n",
    "                \n",
    "                # Reformat sample lists \n",
    "                states = np.array(states)\n",
    "                next_states = np.array(next_states)\n",
    "                actions = np.array(actions)\n",
    "                states = torch.tensor(states)\n",
    "                next_states = torch.tensor(next_states)\n",
    "                actions = torch.tensor(actions)\n",
    "                states = states.to(torch.float32) \n",
    "                actions = actions.to(torch.float32) \n",
    "                next_states = next_states.to(torch.float32) \n",
    "                \n",
    "                # Gradient descent on critic prep\n",
    "                target_actions = self.target_actor(next_states)\n",
    "                next_Qtargets = self.target_critic(next_states, target_actions)\n",
    "                Qtargets = []\n",
    "                for i in range(self.batch_size):\n",
    "                    Qtargets.append(rewards[i] + self.gamma * next_Qtargets[i] * terminals[i]) # If next state terminal, will be 0\n",
    "                Qtargets = torch.tensor(Qtargets)\n",
    "                Qtargets = Qtargets.view(self.batch_size, 1)\n",
    "                \n",
    "                # Gradient descent on critic\n",
    "                Qexpected = self.critic(states, actions)\n",
    "                critic_loss = nn.MSELoss()(Qexpected, Qtargets)\n",
    "                self.critic_optimizer.zero_grad()\n",
    "                critic_loss.backward()\n",
    "                self.critic_optimizer.step()\n",
    "\n",
    "                # Gradient ascent on actor\n",
    "                actions_predicted = self.actor(states)\n",
    "                actor_loss = -self.critic(states, actions_predicted)\n",
    "                actor_loss = torch.mean(actor_loss)\n",
    "                self.actor_optimizer.zero_grad()\n",
    "                actor_loss.backward()\n",
    "                self.actor_optimizer.step()\n",
    "\n",
    "                # Update target networks\n",
    "                with torch.no_grad():\n",
    "                    for target_parameter, parameter in zip(self.target_critic.parameters(), self.critic.parameters()):\n",
    "                        target_parameter.copy_((target_parameter * (1 - self.tau)) + (parameter * self.tau))                    \n",
    "\n",
    "                with torch.no_grad():\n",
    "                    for target_parameter, parameter in zip(self.target_actor.parameters(), self.actor.parameters()):\n",
    "                        target_parameter.copy_((target_parameter * (1 - self.tau)) + (parameter * self.tau))   \n",
    "                \n",
    "            state = next_state\n",
    "            num_step += 1\n",
    "            \n",
    "        if self.render:\n",
    "            env.close()\n",
    "            \n",
    "        return ep_reward\n",
    "     \n",
    "    def test(self):\n",
    "        \n",
    "        scores = []\n",
    "        \n",
    "        for i in range(100):\n",
    "            state = env.reset()\n",
    "            terminal = False\n",
    "            ep_reward = 0\n",
    "\n",
    "            while not terminal:\n",
    "                tensor_state = torch.from_numpy(state).float()\n",
    "                action = self.actor(tensor_state)\n",
    "                action = action.detach().numpy()\n",
    "                next_state, reward, terminal, _ = env.step(action)\n",
    "                ep_reward += reward \n",
    "                state = next_state\n",
    "                \n",
    "            scores.append(ep_reward)\n",
    "        \n",
    "        print('Scores during testing')\n",
    "        print('Mean score:', np.mean(scores))\n",
    "        x = [i for i in range(1, len(scores)+1)]\n",
    "        plt.plot(x, scores)\n",
    "        plt.ylabel('Score')\n",
    "        plt.xlabel('Episodes')\n",
    "        plt.show()\n",
    "        \n",
    "    def visualise(self):\n",
    "        for i in range(10):\n",
    "            state = env.reset()\n",
    "            terminal = False\n",
    "            ep_reward = 0\n",
    "\n",
    "            while not terminal:\n",
    "                env.render()\n",
    "                tensor_state = torch.from_numpy(state).float()\n",
    "                action = self.actor(tensor_state)\n",
    "                action = action.detach().numpy()\n",
    "                next_state, reward, terminal, _ = env.step(action)\n",
    "                ep_reward += reward \n",
    "                state = next_state\n",
    "\n",
    "            print('Episode reward:', ep_reward)\n",
    "            env.close()"
   ]
  },
  {
   "cell_type": "code",
   "execution_count": 5,
   "id": "792bd6ca",
   "metadata": {
    "scrolled": false
   },
   "outputs": [
    {
     "name": "stdout",
     "output_type": "stream",
     "text": [
      "*************************************************************\n",
      "Agent 1\n",
      "Episode: 100 Score: -131.495 \t Mean score over last 100 episodes: -124.663\n",
      "Episode: 200 Score: -120.896 \t Mean score over last 100 episodes: -116.765\n",
      "Episode: 300 Score: -188.476 \t Mean score over last 100 episodes: -126.951\n",
      "Episode: 400 Score: -89.975 \t Mean score over last 100 episodes: -115.929\n",
      "Episode: 500 Score: 95.361 \t Mean score over last 100 episodes: -90.630\n",
      "Episode: 600 Score: -120.171 \t Mean score over last 100 episodes: -68.283\n",
      "Episode: 700 Score: -134.862 \t Mean score over last 100 episodes: -120.733\n",
      "Episode: 800 Score: -119.802 \t Mean score over last 100 episodes: -79.465\n",
      "Episode: 900 Score: -84.706 \t Mean score over last 100 episodes: -76.516\n",
      "Episode: 1000 Score: -86.209 \t Mean score over last 100 episodes: -67.542\n",
      "Episode: 1100 Score: -69.181 \t Mean score over last 100 episodes: -70.189\n",
      "Episode: 1200 Score: 208.998 \t Mean score over last 100 episodes: 3.438\n",
      "Episode: 1300 Score: -6.664 \t Mean score over last 100 episodes: 49.488\n",
      "Episode: 1400 Score: -92.625 \t Mean score over last 100 episodes: 35.111\n",
      "Episode: 1500 Score: -36.001 \t Mean score over last 100 episodes: 9.150\n",
      "Episode: 1600 Score: 244.441 \t Mean score over last 100 episodes: 103.803\n",
      "Episode: 1700 Score: -23.360 \t Mean score over last 100 episodes: 149.692\n",
      "Episode: 1800 Score: -121.937 \t Mean score over last 100 episodes: -3.140\n",
      "Episode: 1900 Score: -51.070 \t Mean score over last 100 episodes: 42.842\n",
      "Episode: 2000 Score: 23.977 \t Mean score over last 100 episodes: 124.688\n",
      "Episode: 2100 Score: 261.704 \t Mean score over last 100 episodes: 132.905\n",
      "Episode: 2200 Score: 260.140 \t Mean score over last 100 episodes: 152.816\n",
      "Episode: 2300 Score: 274.814 \t Mean score over last 100 episodes: 94.889\n",
      "Episode: 2400 Score: 48.658 \t Mean score over last 100 episodes: 47.407\n",
      "Episode: 2500 Score: -72.533 \t Mean score over last 100 episodes: 98.188\n",
      "Episode: 2600 Score: -45.417 \t Mean score over last 100 episodes: 88.053\n",
      "Episode: 2700 Score: 145.630 \t Mean score over last 100 episodes: 134.112\n",
      "Episode: 2800 Score: 280.618 \t Mean score over last 100 episodes: 178.662\n",
      "Episode: 2900 Score: 277.088 \t Mean score over last 100 episodes: 163.997\n",
      "Episode: 3000 Score: -3.049 \t Mean score over last 100 episodes: 156.348\n",
      "*********************************\n",
      "Agent 1 complete \t Mean score of agent: 23.493\n",
      "BipedalWalker-v3 finished in 3000 episodes \t Mean score over last 100 episodes: 156.348\n",
      "*********************************\n",
      "Agent 1 scores during training\n"
     ]
    },
    {
     "data": {
      "image/png": "[encoded data removed]",
      "text/plain": [
       "<Figure size 432x288 with 1 Axes>"
      ]
     },
     "metadata": {
      "needs_background": "light"
     },
     "output_type": "display_data"
    },
    {
     "name": "stdout",
     "output_type": "stream",
     "text": [
      "Agent 1 mean score of last 100 episodes during training\n"
     ]
    },
    {
     "data": {
      "image/png": "[encoded data removed]",
      "text/plain": [
       "<Figure size 432x288 with 1 Axes>"
      ]
     },
     "metadata": {
      "needs_background": "light"
     },
     "output_type": "display_data"
    }
   ],
   "source": [
    "environment = 'BipedalWalker-v3' # Change environment name here\n",
    "env = gym.make(environment)\n",
    "\n",
    "if environment == 'Pendulum-v1':\n",
    "    scaling = 2\n",
    "    solved = -100\n",
    "elif environment == 'LunarLanderContinuous-v2':\n",
    "    scaling = 1\n",
    "    solved = 200 \n",
    "elif environment =='BipedalWalker-v3' or 'BipedalWalkerHardcore-v3':\n",
    "    scaling = 1\n",
    "    solved = 300 \n",
    "\n",
    "previous = 100\n",
    "print_every = 100\n",
    "agents = 1\n",
    "\n",
    "for i in range(1, agents + 1): \n",
    "    print('*************************************************************')\n",
    "    print('Agent {}'.format(i))\n",
    "\n",
    "    agent = DDPG_Agent(scaling = scaling, render = False, buffer_size = 500000, batch_size = 64, gamma = 0.99, tau = 0.005, noise = 0.1 * scaling,\n",
    "                state_size = env.observation_space.shape[0], hidden_size = 64, action_size = env.action_space.shape[0], actor_lr = 0.0004, critic_lr = 0.0004)\n",
    "    agent_scores = [0]\n",
    "    agent_moving_means = [0]\n",
    "    episode = 1\n",
    "\n",
    "    while (agent_moving_means[-1] < solved or episode <= previous) and episode < 3001:\n",
    "\n",
    "        ep_reward = agent.train()\n",
    "\n",
    "        if episode == 1: \n",
    "            agent_scores[0] = ep_reward\n",
    "            agent_moving_means[0] = ep_reward\n",
    "        else:\n",
    "            agent_scores.append(ep_reward)\n",
    "            agent_moving_means.append(np.mean(agent_scores[-previous:])) \n",
    "\n",
    "        if episode % print_every == 0:\n",
    "            print('Episode: {} Score: {:.3f} \\t Mean score over last {} episodes: {:.3f}'.format(episode, ep_reward, previous, agent_moving_means[-1])) \n",
    "\n",
    "        episode += 1\n",
    "\n",
    "    episode -= 1\n",
    "    print('*********************************')\n",
    "    print('Agent {} complete \\t Mean score of agent: {:.3f}'.format(i, np.mean(agent_scores))) \n",
    "    print('{} finished in {} episodes \\t Mean score over last {} episodes: {:.3f}'.format(environment, episode, previous, agent_moving_means[-1]))\n",
    "    print('*********************************')\n",
    "\n",
    "    x = [i for i in range(1, len(agent_scores) + 1)]\n",
    "    print('Agent {} scores during training'.format(i))\n",
    "    plt.plot(x, agent_scores)\n",
    "    plt.ylabel('Score')\n",
    "    plt.xlabel('Episodes')              \n",
    "    plt.show()\n",
    "\n",
    "    x = [i for i in range(1, len(agent_moving_means) + 1)]\n",
    "    print('Agent {} mean score of last {} episodes during training'.format(i, previous))\n",
    "    plt.plot(x, agent_moving_means)\n",
    "    plt.ylabel('Mean score of last {} episodes'.format(previous))       \n",
    "    plt.xlabel('Episodes')\n",
    "    plt.show()"
   ]
  },
  {
   "cell_type": "code",
   "execution_count": 6,
   "id": "88b20cb9",
   "metadata": {
    "scrolled": true
   },
   "outputs": [
    {
     "name": "stdout",
     "output_type": "stream",
     "text": [
      "Scores during testing\n",
      "Mean score: 228.4976306506243\n"
     ]
    },
    {
     "data": {
      "image/png": "[encoded data removed]",
      "text/plain": [
       "<Figure size 432x288 with 1 Axes>"
      ]
     },
     "metadata": {
      "needs_background": "light"
     },
     "output_type": "display_data"
    }
   ],
   "source": [
    "agent.test()"
   ]
  },
  {
   "cell_type": "code",
   "execution_count": 7,
   "id": "984c6a5a",
   "metadata": {},
   "outputs": [
    {
     "name": "stderr",
     "output_type": "stream",
     "text": [
      "2022-05-04 02:56:56.079 python[31987:1087420] Warning: Expected min height of view: (<NSPopoverTouchBarItemButton: 0x7fa7e9204080>) to be less than or equal to 30 but got a height of 32.000000. This error will be logged once per view in violation.\n",
      "2022-05-04 02:56:56.080 python[31987:1087420] Warning: Expected min height of view: (<NSButton: 0x7fa7fd1d98a0>) to be less than or equal to 30 but got a height of 32.000000. This error will be logged once per view in violation.\n",
      "2022-05-04 02:56:56.083 python[31987:1087420] Warning: Expected min height of view: (<NSPopoverTouchBarItemButton: 0x7fa7e783f5d0>) to be less than or equal to 30 but got a height of 32.000000. This error will be logged once per view in violation.\n",
      "2022-05-04 02:56:56.086 python[31987:1087420] Warning: Expected min height of view: (<NSPopoverTouchBarItemButton: 0x7fa7dee86630>) to be less than or equal to 30 but got a height of 32.000000. This error will be logged once per view in violation.\n"
     ]
    },
    {
     "name": "stdout",
     "output_type": "stream",
     "text": [
      "Episode reward: 278.95432137313986\n"
     ]
    },
    {
     "name": "stderr",
     "output_type": "stream",
     "text": [
      "2022-05-04 02:57:08.814 python[31987:1087420] Warning: Expected min height of view: (<NSPopoverTouchBarItemButton: 0x7fa7e5161c20>) to be less than or equal to 30 but got a height of 32.000000. This error will be logged once per view in violation.\n",
      "2022-05-04 02:57:08.815 python[31987:1087420] Warning: Expected min height of view: (<NSButton: 0x7fa7e7836fe0>) to be less than or equal to 30 but got a height of 32.000000. This error will be logged once per view in violation.\n",
      "2022-05-04 02:57:08.819 python[31987:1087420] Warning: Expected min height of view: (<NSPopoverTouchBarItemButton: 0x7fa7e51477a0>) to be less than or equal to 30 but got a height of 32.000000. This error will be logged once per view in violation.\n",
      "2022-05-04 02:57:08.823 python[31987:1087420] Warning: Expected min height of view: (<NSPopoverTouchBarItemButton: 0x7fa7e51461c0>) to be less than or equal to 30 but got a height of 32.000000. This error will be logged once per view in violation.\n"
     ]
    },
    {
     "name": "stdout",
     "output_type": "stream",
     "text": [
      "Episode reward: 279.4622562844466\n"
     ]
    },
    {
     "name": "stderr",
     "output_type": "stream",
     "text": [
      "2022-05-04 02:57:19.606 python[31987:1087420] Warning: Expected min height of view: (<NSPopoverTouchBarItemButton: 0x7fa7fd1e68f0>) to be less than or equal to 30 but got a height of 32.000000. This error will be logged once per view in violation.\n",
      "2022-05-04 02:57:19.606 python[31987:1087420] Warning: Expected min height of view: (<NSButton: 0x7fa7fd1b9c00>) to be less than or equal to 30 but got a height of 32.000000. This error will be logged once per view in violation.\n",
      "2022-05-04 02:57:19.609 python[31987:1087420] Warning: Expected min height of view: (<NSPopoverTouchBarItemButton: 0x7fa7fd1ba3f0>) to be less than or equal to 30 but got a height of 32.000000. This error will be logged once per view in violation.\n",
      "2022-05-04 02:57:19.614 python[31987:1087420] Warning: Expected min height of view: (<NSPopoverTouchBarItemButton: 0x7fa7fd1aff50>) to be less than or equal to 30 but got a height of 32.000000. This error will be logged once per view in violation.\n"
     ]
    },
    {
     "name": "stdout",
     "output_type": "stream",
     "text": [
      "Episode reward: 277.01839466437906\n"
     ]
    },
    {
     "name": "stderr",
     "output_type": "stream",
     "text": [
      "2022-05-04 02:57:33.905 python[31987:1087420] Warning: Expected min height of view: (<NSPopoverTouchBarItemButton: 0x7fa7fbd174d0>) to be less than or equal to 30 but got a height of 32.000000. This error will be logged once per view in violation.\n",
      "2022-05-04 02:57:33.906 python[31987:1087420] Warning: Expected min height of view: (<NSButton: 0x7fa7fd1b0760>) to be less than or equal to 30 but got a height of 32.000000. This error will be logged once per view in violation.\n",
      "2022-05-04 02:57:33.908 python[31987:1087420] Warning: Expected min height of view: (<NSPopoverTouchBarItemButton: 0x7fa7fd1c0410>) to be less than or equal to 30 but got a height of 32.000000. This error will be logged once per view in violation.\n",
      "2022-05-04 02:57:33.910 python[31987:1087420] Warning: Expected min height of view: (<NSPopoverTouchBarItemButton: 0x7fa7fd1975d0>) to be less than or equal to 30 but got a height of 32.000000. This error will be logged once per view in violation.\n"
     ]
    },
    {
     "name": "stdout",
     "output_type": "stream",
     "text": [
      "Episode reward: 278.97392142175005\n"
     ]
    },
    {
     "name": "stderr",
     "output_type": "stream",
     "text": [
      "2022-05-04 02:57:47.840 python[31987:1087420] Warning: Expected min height of view: (<NSPopoverTouchBarItemButton: 0x7fa7e784af20>) to be less than or equal to 30 but got a height of 32.000000. This error will be logged once per view in violation.\n",
      "2022-05-04 02:57:47.840 python[31987:1087420] Warning: Expected min height of view: (<NSButton: 0x7fa7df6816e0>) to be less than or equal to 30 but got a height of 32.000000. This error will be logged once per view in violation.\n",
      "2022-05-04 02:57:47.843 python[31987:1087420] Warning: Expected min height of view: (<NSPopoverTouchBarItemButton: 0x7fa7df609130>) to be less than or equal to 30 but got a height of 32.000000. This error will be logged once per view in violation.\n",
      "2022-05-04 02:57:47.845 python[31987:1087420] Warning: Expected min height of view: (<NSPopoverTouchBarItemButton: 0x7fa7e60143e0>) to be less than or equal to 30 but got a height of 32.000000. This error will be logged once per view in violation.\n"
     ]
    },
    {
     "name": "stdout",
     "output_type": "stream",
     "text": [
      "Episode reward: 280.42426964668584\n"
     ]
    },
    {
     "name": "stderr",
     "output_type": "stream",
     "text": [
      "2022-05-04 02:58:01.699 python[31987:1087420] Warning: Expected min height of view: (<NSPopoverTouchBarItemButton: 0x7fa7fd1a8110>) to be less than or equal to 30 but got a height of 32.000000. This error will be logged once per view in violation.\n",
      "2022-05-04 02:58:01.700 python[31987:1087420] Warning: Expected min height of view: (<NSButton: 0x7fa7fd13fca0>) to be less than or equal to 30 but got a height of 32.000000. This error will be logged once per view in violation.\n",
      "2022-05-04 02:58:01.702 python[31987:1087420] Warning: Expected min height of view: (<NSPopoverTouchBarItemButton: 0x7fa7fd13e550>) to be less than or equal to 30 but got a height of 32.000000. This error will be logged once per view in violation.\n",
      "2022-05-04 02:58:01.704 python[31987:1087420] Warning: Expected min height of view: (<NSPopoverTouchBarItemButton: 0x7fa7fd13a790>) to be less than or equal to 30 but got a height of 32.000000. This error will be logged once per view in violation.\n"
     ]
    },
    {
     "name": "stdout",
     "output_type": "stream",
     "text": [
      "Episode reward: -16.234838444833244\n"
     ]
    },
    {
     "name": "stderr",
     "output_type": "stream",
     "text": [
      "2022-05-04 02:58:07.098 python[31987:1087420] Warning: Expected min height of view: (<NSPopoverTouchBarItemButton: 0x7fa7e65de960>) to be less than or equal to 30 but got a height of 32.000000. This error will be logged once per view in violation.\n",
      "2022-05-04 02:58:07.099 python[31987:1087420] Warning: Expected min height of view: (<NSButton: 0x7fa7e6517be0>) to be less than or equal to 30 but got a height of 32.000000. This error will be logged once per view in violation.\n",
      "2022-05-04 02:58:07.102 python[31987:1087420] Warning: Expected min height of view: (<NSPopoverTouchBarItemButton: 0x7fa7e6518200>) to be less than or equal to 30 but got a height of 32.000000. This error will be logged once per view in violation.\n",
      "2022-05-04 02:58:07.106 python[31987:1087420] Warning: Expected min height of view: (<NSPopoverTouchBarItemButton: 0x7fa7e6514cc0>) to be less than or equal to 30 but got a height of 32.000000. This error will be logged once per view in violation.\n"
     ]
    },
    {
     "name": "stdout",
     "output_type": "stream",
     "text": [
      "Episode reward: 278.92374528610867\n"
     ]
    },
    {
     "name": "stderr",
     "output_type": "stream",
     "text": [
      "2022-05-04 02:58:20.923 python[31987:1087420] Warning: Expected min height of view: (<NSPopoverTouchBarItemButton: 0x7fa7fd1bb6a0>) to be less than or equal to 30 but got a height of 32.000000. This error will be logged once per view in violation.\n",
      "2022-05-04 02:58:20.927 python[31987:1087420] Warning: Expected min height of view: (<NSButton: 0x7fa7fd120060>) to be less than or equal to 30 but got a height of 32.000000. This error will be logged once per view in violation.\n",
      "2022-05-04 02:58:20.933 python[31987:1087420] Warning: Expected min height of view: (<NSPopoverTouchBarItemButton: 0x7fa7fd12b360>) to be less than or equal to 30 but got a height of 32.000000. This error will be logged once per view in violation.\n",
      "2022-05-04 02:58:20.939 python[31987:1087420] Warning: Expected min height of view: (<NSPopoverTouchBarItemButton: 0x7fa7fd125e80>) to be less than or equal to 30 but got a height of 32.000000. This error will be logged once per view in violation.\n"
     ]
    },
    {
     "name": "stdout",
     "output_type": "stream",
     "text": [
      "Episode reward: 280.6403398718081\n"
     ]
    },
    {
     "name": "stderr",
     "output_type": "stream",
     "text": [
      "2022-05-04 02:58:34.933 python[31987:1087420] Warning: Expected min height of view: (<NSPopoverTouchBarItemButton: 0x7fa7e65087a0>) to be less than or equal to 30 but got a height of 32.000000. This error will be logged once per view in violation.\n",
      "2022-05-04 02:58:34.937 python[31987:1087420] Warning: Expected min height of view: (<NSButton: 0x7fa7e5170b60>) to be less than or equal to 30 but got a height of 32.000000. This error will be logged once per view in violation.\n",
      "2022-05-04 02:58:34.946 python[31987:1087420] Warning: Expected min height of view: (<NSPopoverTouchBarItemButton: 0x7fa7e5170e10>) to be less than or equal to 30 but got a height of 32.000000. This error will be logged once per view in violation.\n",
      "2022-05-04 02:58:34.953 python[31987:1087420] Warning: Expected min height of view: (<NSPopoverTouchBarItemButton: 0x7fa7e51616e0>) to be less than or equal to 30 but got a height of 32.000000. This error will be logged once per view in violation.\n"
     ]
    },
    {
     "name": "stdout",
     "output_type": "stream",
     "text": [
      "Episode reward: 35.08554017344318\n"
     ]
    },
    {
     "name": "stderr",
     "output_type": "stream",
     "text": [
      "2022-05-04 02:58:43.197 python[31987:1087420] Warning: Expected min height of view: (<NSPopoverTouchBarItemButton: 0x7fa7e725a360>) to be less than or equal to 30 but got a height of 32.000000. This error will be logged once per view in violation.\n",
      "2022-05-04 02:58:43.200 python[31987:1087420] Warning: Expected min height of view: (<NSButton: 0x7fa7e6b04e80>) to be less than or equal to 30 but got a height of 32.000000. This error will be logged once per view in violation.\n",
      "2022-05-04 02:58:43.202 python[31987:1087420] Warning: Expected min height of view: (<NSPopoverTouchBarItemButton: 0x7fa7e6b05610>) to be less than or equal to 30 but got a height of 32.000000. This error will be logged once per view in violation.\n",
      "2022-05-04 02:58:43.204 python[31987:1087420] Warning: Expected min height of view: (<NSPopoverTouchBarItemButton: 0x7fa7e6b06390>) to be less than or equal to 30 but got a height of 32.000000. This error will be logged once per view in violation.\n"
     ]
    },
    {
     "ename": "KeyboardInterrupt",
     "evalue": "",
     "output_type": "error",
     "traceback": [
      "\u001b[0;31m---------------------------------------------------------------------------\u001b[0m",
      "\u001b[0;31mKeyboardInterrupt\u001b[0m                         Traceback (most recent call last)",
      "Input \u001b[0;32mIn [7]\u001b[0m, in \u001b[0;36m<cell line: 1>\u001b[0;34m()\u001b[0m\n\u001b[0;32m----> 1\u001b[0m \u001b[43magent\u001b[49m\u001b[38;5;241;43m.\u001b[39;49m\u001b[43mvisualise\u001b[49m\u001b[43m(\u001b[49m\u001b[43m)\u001b[49m\n",
      "Input \u001b[0;32mIn [4]\u001b[0m, in \u001b[0;36mDDPG_Agent.visualise\u001b[0;34m(self)\u001b[0m\n\u001b[1;32m    165\u001b[0m ep_reward \u001b[38;5;241m=\u001b[39m \u001b[38;5;241m0\u001b[39m\n\u001b[1;32m    167\u001b[0m \u001b[38;5;28;01mwhile\u001b[39;00m \u001b[38;5;129;01mnot\u001b[39;00m terminal:\n\u001b[0;32m--> 168\u001b[0m     \u001b[43menv\u001b[49m\u001b[38;5;241;43m.\u001b[39;49m\u001b[43mrender\u001b[49m\u001b[43m(\u001b[49m\u001b[43m)\u001b[49m\n\u001b[1;32m    169\u001b[0m     tensor_state \u001b[38;5;241m=\u001b[39m torch\u001b[38;5;241m.\u001b[39mfrom_numpy(state)\u001b[38;5;241m.\u001b[39mfloat()\n\u001b[1;32m    170\u001b[0m     action \u001b[38;5;241m=\u001b[39m \u001b[38;5;28mself\u001b[39m\u001b[38;5;241m.\u001b[39mactor(tensor_state)\n",
      "File \u001b[0;32m/opt/anaconda3/lib/python3.8/site-packages/gym/core.py:295\u001b[0m, in \u001b[0;36mWrapper.render\u001b[0;34m(self, mode, **kwargs)\u001b[0m\n\u001b[1;32m    294\u001b[0m \u001b[38;5;28;01mdef\u001b[39;00m \u001b[38;5;21mrender\u001b[39m(\u001b[38;5;28mself\u001b[39m, mode\u001b[38;5;241m=\u001b[39m\u001b[38;5;124m\"\u001b[39m\u001b[38;5;124mhuman\u001b[39m\u001b[38;5;124m\"\u001b[39m, \u001b[38;5;241m*\u001b[39m\u001b[38;5;241m*\u001b[39mkwargs):\n\u001b[0;32m--> 295\u001b[0m     \u001b[38;5;28;01mreturn\u001b[39;00m \u001b[38;5;28;43mself\u001b[39;49m\u001b[38;5;241;43m.\u001b[39;49m\u001b[43menv\u001b[49m\u001b[38;5;241;43m.\u001b[39;49m\u001b[43mrender\u001b[49m\u001b[43m(\u001b[49m\u001b[43mmode\u001b[49m\u001b[43m,\u001b[49m\u001b[43m \u001b[49m\u001b[38;5;241;43m*\u001b[39;49m\u001b[38;5;241;43m*\u001b[39;49m\u001b[43mkwargs\u001b[49m\u001b[43m)\u001b[49m\n",
      "File \u001b[0;32m/opt/anaconda3/lib/python3.8/site-packages/gym/envs/box2d/bipedal_walker.py:564\u001b[0m, in \u001b[0;36mBipedalWalker.render\u001b[0;34m(self, mode)\u001b[0m\n\u001b[1;32m    561\u001b[0m \u001b[38;5;28mself\u001b[39m\u001b[38;5;241m.\u001b[39mviewer\u001b[38;5;241m.\u001b[39mdraw_polygon(f, color\u001b[38;5;241m=\u001b[39m(\u001b[38;5;241m0.9\u001b[39m, \u001b[38;5;241m0.2\u001b[39m, \u001b[38;5;241m0\u001b[39m))\n\u001b[1;32m    562\u001b[0m \u001b[38;5;28mself\u001b[39m\u001b[38;5;241m.\u001b[39mviewer\u001b[38;5;241m.\u001b[39mdraw_polyline(f \u001b[38;5;241m+\u001b[39m [f[\u001b[38;5;241m0\u001b[39m]], color\u001b[38;5;241m=\u001b[39m(\u001b[38;5;241m0\u001b[39m, \u001b[38;5;241m0\u001b[39m, \u001b[38;5;241m0\u001b[39m), linewidth\u001b[38;5;241m=\u001b[39m\u001b[38;5;241m2\u001b[39m)\n\u001b[0;32m--> 564\u001b[0m \u001b[38;5;28;01mreturn\u001b[39;00m \u001b[38;5;28;43mself\u001b[39;49m\u001b[38;5;241;43m.\u001b[39;49m\u001b[43mviewer\u001b[49m\u001b[38;5;241;43m.\u001b[39;49m\u001b[43mrender\u001b[49m\u001b[43m(\u001b[49m\u001b[43mreturn_rgb_array\u001b[49m\u001b[38;5;241;43m=\u001b[39;49m\u001b[43mmode\u001b[49m\u001b[43m \u001b[49m\u001b[38;5;241;43m==\u001b[39;49m\u001b[43m \u001b[49m\u001b[38;5;124;43m\"\u001b[39;49m\u001b[38;5;124;43mrgb_array\u001b[39;49m\u001b[38;5;124;43m\"\u001b[39;49m\u001b[43m)\u001b[49m\n",
      "File \u001b[0;32m/opt/anaconda3/lib/python3.8/site-packages/gym/envs/classic_control/rendering.py:130\u001b[0m, in \u001b[0;36mViewer.render\u001b[0;34m(self, return_rgb_array)\u001b[0m\n\u001b[1;32m    128\u001b[0m     geom\u001b[38;5;241m.\u001b[39mrender()\n\u001b[1;32m    129\u001b[0m \u001b[38;5;28;01mfor\u001b[39;00m geom \u001b[38;5;129;01min\u001b[39;00m \u001b[38;5;28mself\u001b[39m\u001b[38;5;241m.\u001b[39monetime_geoms:\n\u001b[0;32m--> 130\u001b[0m     \u001b[43mgeom\u001b[49m\u001b[38;5;241;43m.\u001b[39;49m\u001b[43mrender\u001b[49m\u001b[43m(\u001b[49m\u001b[43m)\u001b[49m\n\u001b[1;32m    131\u001b[0m \u001b[38;5;28mself\u001b[39m\u001b[38;5;241m.\u001b[39mtransform\u001b[38;5;241m.\u001b[39mdisable()\n\u001b[1;32m    132\u001b[0m arr \u001b[38;5;241m=\u001b[39m \u001b[38;5;28;01mNone\u001b[39;00m\n",
      "File \u001b[0;32m/opt/anaconda3/lib/python3.8/site-packages/gym/envs/classic_control/rendering.py:203\u001b[0m, in \u001b[0;36mGeom.render\u001b[0;34m(self)\u001b[0m\n\u001b[1;32m    201\u001b[0m \u001b[38;5;28;01mfor\u001b[39;00m attr \u001b[38;5;129;01min\u001b[39;00m \u001b[38;5;28mreversed\u001b[39m(\u001b[38;5;28mself\u001b[39m\u001b[38;5;241m.\u001b[39mattrs):\n\u001b[1;32m    202\u001b[0m     attr\u001b[38;5;241m.\u001b[39menable()\n\u001b[0;32m--> 203\u001b[0m \u001b[38;5;28;43mself\u001b[39;49m\u001b[38;5;241;43m.\u001b[39;49m\u001b[43mrender1\u001b[49m\u001b[43m(\u001b[49m\u001b[43m)\u001b[49m\n\u001b[1;32m    204\u001b[0m \u001b[38;5;28;01mfor\u001b[39;00m attr \u001b[38;5;129;01min\u001b[39;00m \u001b[38;5;28mself\u001b[39m\u001b[38;5;241m.\u001b[39mattrs:\n\u001b[1;32m    205\u001b[0m     attr\u001b[38;5;241m.\u001b[39mdisable()\n",
      "File \u001b[0;32m/opt/anaconda3/lib/python3.8/site-packages/gym/envs/classic_control/rendering.py:303\u001b[0m, in \u001b[0;36mFilledPolygon.render1\u001b[0;34m(self)\u001b[0m\n\u001b[1;32m    301\u001b[0m     glBegin(GL_TRIANGLES)\n\u001b[1;32m    302\u001b[0m \u001b[38;5;28;01mfor\u001b[39;00m p \u001b[38;5;129;01min\u001b[39;00m \u001b[38;5;28mself\u001b[39m\u001b[38;5;241m.\u001b[39mv:\n\u001b[0;32m--> 303\u001b[0m     \u001b[43mglVertex3f\u001b[49m\u001b[43m(\u001b[49m\u001b[43mp\u001b[49m\u001b[43m[\u001b[49m\u001b[38;5;241;43m0\u001b[39;49m\u001b[43m]\u001b[49m\u001b[43m,\u001b[49m\u001b[43m \u001b[49m\u001b[43mp\u001b[49m\u001b[43m[\u001b[49m\u001b[38;5;241;43m1\u001b[39;49m\u001b[43m]\u001b[49m\u001b[43m,\u001b[49m\u001b[43m \u001b[49m\u001b[38;5;241;43m0\u001b[39;49m\u001b[43m)\u001b[49m  \u001b[38;5;66;03m# draw each vertex\u001b[39;00m\n\u001b[1;32m    304\u001b[0m glEnd()\n",
      "\u001b[0;31mKeyboardInterrupt\u001b[0m: "
     ]
    }
   ],
   "source": [
    "agent.visualise()"
   ]
  }
 ],
 "metadata": {
  "kernelspec": {
   "display_name": "Python 3 (ipykernel)",
   "language": "python",
   "name": "python3"
  },
  "language_info": {
   "codemirror_mode": {
    "name": "ipython",
    "version": 3
   },
   "file_extension": ".py",
   "mimetype": "text/x-python",
   "name": "python",
   "nbconvert_exporter": "python",
   "pygments_lexer": "ipython3",
   "version": "3.8.8"
  }
 },
 "nbformat": 4,
 "nbformat_minor": 5
}
