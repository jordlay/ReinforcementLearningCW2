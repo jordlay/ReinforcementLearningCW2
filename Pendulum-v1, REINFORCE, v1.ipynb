{
 "cells": [
  {
   "cell_type": "markdown",
   "id": "9dc72f9d",
   "metadata": {},
   "source": [
    "# 1. Imports and prequesites"
   ]
  },
  {
   "cell_type": "code",
   "execution_count": 1,
   "id": "f87e207b",
   "metadata": {},
   "outputs": [],
   "source": [
    "import gym\n",
    "import numpy as np\n",
    "from collections import deque\n",
    "import matplotlib.pyplot as plt\n",
    "import torch\n",
    "import torch.nn as nn\n",
    "import torch.nn.functional as F\n",
    "import torch.optim as optim\n",
    "from torch.distributions import Normal\n",
    "from torch.distributions import Categorical\n",
    "\n",
    "device = torch.device(\"cuda:0\" if torch.cuda.is_available() else \"cpu\") # Runs on GPU if available, otherwise runs on CPU"
   ]
  },
  {
   "cell_type": "markdown",
   "id": "8b9ca825",
   "metadata": {},
   "source": [
    "# 2. Understand the environment"
   ]
  },
  {
   "cell_type": "code",
   "execution_count": 2,
   "id": "cf1c77df",
   "metadata": {},
   "outputs": [
    {
     "name": "stdout",
     "output_type": "stream",
     "text": [
      "Start state: [-0.9422352  -0.33495203  0.9307819 ]\n",
      "Observation space: Box([-1. -1. -8.], [1. 1. 8.], (3,), float32)\n",
      "Action space: Box([-2.], [2.], (1,), float32)\n",
      "Step: (array([-0.9268331, -0.3754736,  0.8670679], dtype=float32), -7.928412733658928, False, {})\n",
      "State: [-2.75668495  0.86706786]\n",
      "Action list: [-1.2162052]\n",
      "Action item: -1.2162052392959595\n"
     ]
    }
   ],
   "source": [
    "\"\"\"\n",
    "Unimportant parameters of environment:\n",
    "m = 1.0 \n",
    "dt = 0.05 distance time \n",
    "l = 1.0 rod length\n",
    "\n",
    "Important parameters of environment:\n",
    "th = angle in radians normalized between [-pi, pi] with 0 being in the upright position\n",
    "thdot = angular velocity of free end\n",
    "x = cos(th) aka coordinate of free end\n",
    "y = sin(th) aka coordinate of free end\n",
    "u = torque in Nm (+ve counter-clockwise) applied to free end. Will clip e.g. if 3, will clip to 2.\n",
    "g = acceleration of gravity in m**2. Default value is 10.0. Can change e.g. gym.make('Pendulum-v1', g=9.81)\n",
    "\n",
    "Observation space:\n",
    "| 0   | x         | -1.0 | 1.0 |\n",
    "| 1   | y         | -1.0 | 1.0 |\n",
    "| 2   | thdot     | -8.0 | 8.0 |\n",
    "\n",
    "Action space: \n",
    "| 0   | u       | -2.0 | 2.0 |\n",
    "\n",
    "Transition dynamics (clips if outside bounds)\n",
    "new_thdot = thdot + (3 * g / (2 * l) * np.sin(th) + 3.0 / (m * l**2) * u) * dt\n",
    "new_th = th + newthdot * dt\n",
    "\n",
    "Reward:\n",
    "r = -(th**2 + 0.1 * thdot**2 + 0.001 * u**2)\n",
    "Min reward = -(pi**2 + 0.1 * 8**2 + 0.001 * 2**2) = -16.2736044\n",
    "Max reward = 0 when upright with zero velocity and no torque applied \n",
    "\n",
    "Starting state:\n",
    "Random theta in [-pi, pi] and a random theta_dt in [-1,1]\n",
    "\n",
    "Termination:\n",
    "Episode terminates at 200 time steps and will never terminate before this even if upright\n",
    "\"\"\"\n",
    "\n",
    "env = gym.make('Pendulum-v1')\n",
    "env.seed(0)\n",
    "print('Start state:', env.reset())\n",
    "print('Observation space:', env.observation_space)\n",
    "print('Action space:', env.action_space)\n",
    "print('Step:', env.step([1.25])) # Returns: new x, new y, new thdot, reward, done (which is always false)\n",
    "print('State:', env.state) # Returns: new_th and new_thdot\n",
    "action = env.action_space.sample()\n",
    "print('Action list:', action)\n",
    "print('Action item:', action.item())"
   ]
  },
  {
   "cell_type": "markdown",
   "id": "334c87e5",
   "metadata": {},
   "source": [
    "# 3. Define the neural network(s)"
   ]
  },
  {
   "cell_type": "code",
   "execution_count": 3,
   "id": "fb7b3268",
   "metadata": {},
   "outputs": [],
   "source": [
    "class PolicyNetwork(nn.Module):\n",
    "    def __init__(self, s_size, h_size, a_size):\n",
    "        super(PolicyNetwork, self).__init__() \n",
    "        self.fc1 = nn.Linear(s_size, h_size)\n",
    "        self.fc2 = nn.Linear(h_size, a_size)\n",
    "        \n",
    "    def forward(self, x):\n",
    "        x = F.relu(self.fc1(x))\n",
    "        mu = F.softmax(self.fc2(x), dim=1) #tanh to scale for standard normal distribution?\n",
    "        sigma = F.softplus(self.fc2(x)) #If mu changes to close to bound, variance needs to increase so that all actions covered?\n",
    "        return mu, sigma\n",
    "    \n",
    "    # Create .act(state) method so don't need to convert tensor to np repeatedly\n",
    "    def act(self, state):\n",
    "        state = torch.from_numpy(state).float().unsqueeze(0).to(device) #Turn state to tensor\n",
    "        mu, sigma = self.forward(state) #Input state to neural network\n",
    "        m = Normal(mu, sigma) #Output normal probability distribution for continuous action space       \n",
    "        action = m.sample() #Choose an action from this distribution\n",
    "        return action.item(), m.log_prob(action)"
   ]
  },
  {
   "cell_type": "markdown",
   "id": "5dcc9089",
   "metadata": {},
   "source": [
    "# 4. Instantiate the neural network(s)"
   ]
  },
  {
   "cell_type": "code",
   "execution_count": 4,
   "id": "be604659",
   "metadata": {},
   "outputs": [],
   "source": [
    "# s_size=3 since 3 elements in the observation space (x, y, velocity) to input to neural network\n",
    "# h_size=64 arbitrarily\n",
    "# a_size=1 since continous -> Use DiagGaussianDistribution?\n",
    "policy = PolicyNetwork(s_size = 3, h_size = 64, a_size = 1).to(device)\n",
    "\n",
    "optimizer = optim.Adam(policy.parameters(), lr=1e-2) #Use adam gradient ascent algorithm "
   ]
  },
  {
   "cell_type": "markdown",
   "id": "c0b7162a",
   "metadata": {},
   "source": [
    "# 5. Define the algorithm to be used"
   ]
  },
  {
   "cell_type": "code",
   "execution_count": 5,
   "id": "edad69cf",
   "metadata": {},
   "outputs": [],
   "source": [
    "def reinforce(n_episodes=1000, max_t=200, gamma=1.0, print_every=10):\n",
    "\n",
    "    scores = [] # Stores all episode rewards\n",
    "    scores_deque = deque(maxlen=print_every) #Stores episode reward from last 10 episodes and prints average\n",
    "    \n",
    "    for i_episode in range(1, n_episodes+1):\n",
    "    \n",
    "        state = env.reset()\n",
    "        \n",
    "        discounted_rewards = []\n",
    "        saved_log_probs = [] #Stores log(policy) for each timestep\n",
    "        \n",
    "        for t in range(max_t): \n",
    "            action, log_prob = policy.act(state) #Input current state to neural network\n",
    "            saved_log_probs.append(log_prob)\n",
    "            state, reward, done, _ = env.step([action]) #Multiply action by 2 to rescale for environment? Why square brackets?\n",
    "            discounted_reward = reward*(gamma**t)\n",
    "            discounted_rewards.append(discounted_reward)\n",
    "        \n",
    "        G = sum(discounted_rewards)\n",
    "        scores_deque.append(G) #Append total discounted reward for each episode \n",
    "        scores.append(G)\n",
    "        \n",
    "        rewards_togo = []\n",
    "        for t in range(max_t): \n",
    "            rewards_togo.append(sum(discounted_rewards))\n",
    "            discounted_rewards.pop(0)\n",
    "        \n",
    "        policy_loss = [] #Stores -log(pi) * rewards_togo for each timestep. Negative as gradient descent\n",
    "        \n",
    "        for t in range(max_t): \n",
    "            policy_loss.append(-saved_log_probs[t] * rewards_togo[t])\n",
    "        \n",
    "        policy_loss = torch.cat(policy_loss).sum() #Concatenates then sums the list?\n",
    "        optimizer.zero_grad() #Sets the gradients of all optimized tensors to 0?\n",
    "        policy_loss.backward() #Computes policy gradients with respect to all parameters?\n",
    "        optimizer.step() #Update the parameters in the neural network\n",
    "        \n",
    "        if i_episode % print_every == 0: \n",
    "            print('Episode {}\\tAverage Score: {:.2f}'.format(i_episode, np.mean(scores_deque)))\n",
    "\n",
    "    return scores"
   ]
  },
  {
   "cell_type": "markdown",
   "id": "f2221b67",
   "metadata": {},
   "source": [
    "# 6. Train the agent and plot rewards over episodes"
   ]
  },
  {
   "cell_type": "code",
   "execution_count": 6,
   "id": "8c137e24",
   "metadata": {
    "scrolled": false
   },
   "outputs": [
    {
     "name": "stdout",
     "output_type": "stream",
     "text": [
      "Episode 10\tAverage Score: -1457.90\n",
      "Episode 20\tAverage Score: -1245.35\n",
      "Episode 30\tAverage Score: -1528.42\n",
      "Episode 40\tAverage Score: -1361.07\n",
      "Episode 50\tAverage Score: -1241.93\n",
      "Episode 60\tAverage Score: -1294.48\n",
      "Episode 70\tAverage Score: -1265.02\n",
      "Episode 80\tAverage Score: -1256.66\n",
      "Episode 90\tAverage Score: -1220.23\n",
      "Episode 100\tAverage Score: -1204.52\n",
      "Episode 110\tAverage Score: -1305.31\n",
      "Episode 120\tAverage Score: -1251.62\n",
      "Episode 130\tAverage Score: -1193.92\n",
      "Episode 140\tAverage Score: -1390.62\n",
      "Episode 150\tAverage Score: -1419.39\n",
      "Episode 160\tAverage Score: -1297.14\n",
      "Episode 170\tAverage Score: -1398.66\n",
      "Episode 180\tAverage Score: -1347.64\n",
      "Episode 190\tAverage Score: -1272.49\n",
      "Episode 200\tAverage Score: -1444.23\n",
      "Episode 210\tAverage Score: -1097.59\n",
      "Episode 220\tAverage Score: -1222.11\n",
      "Episode 230\tAverage Score: -1329.93\n",
      "Episode 240\tAverage Score: -1243.62\n",
      "Episode 250\tAverage Score: -1323.12\n",
      "Episode 260\tAverage Score: -1326.97\n",
      "Episode 270\tAverage Score: -1242.65\n",
      "Episode 280\tAverage Score: -1215.10\n",
      "Episode 290\tAverage Score: -1154.07\n",
      "Episode 300\tAverage Score: -1202.56\n",
      "Episode 310\tAverage Score: -1126.40\n",
      "Episode 320\tAverage Score: -1201.32\n",
      "Episode 330\tAverage Score: -1228.66\n",
      "Episode 340\tAverage Score: -1251.53\n",
      "Episode 350\tAverage Score: -1260.76\n",
      "Episode 360\tAverage Score: -1309.64\n",
      "Episode 370\tAverage Score: -1219.04\n",
      "Episode 380\tAverage Score: -1375.87\n",
      "Episode 390\tAverage Score: -1355.82\n",
      "Episode 400\tAverage Score: -1179.90\n",
      "Episode 410\tAverage Score: -1224.38\n",
      "Episode 420\tAverage Score: -1512.72\n",
      "Episode 430\tAverage Score: -1272.18\n",
      "Episode 440\tAverage Score: -1327.97\n",
      "Episode 450\tAverage Score: -1377.73\n",
      "Episode 460\tAverage Score: -1222.25\n",
      "Episode 470\tAverage Score: -1197.84\n",
      "Episode 480\tAverage Score: -1277.55\n",
      "Episode 490\tAverage Score: -1313.30\n",
      "Episode 500\tAverage Score: -1241.42\n",
      "Episode 510\tAverage Score: -1241.18\n",
      "Episode 520\tAverage Score: -1167.89\n",
      "Episode 530\tAverage Score: -1270.17\n",
      "Episode 540\tAverage Score: -1214.69\n",
      "Episode 550\tAverage Score: -1290.05\n",
      "Episode 560\tAverage Score: -1348.07\n",
      "Episode 570\tAverage Score: -1229.67\n",
      "Episode 580\tAverage Score: -1208.17\n",
      "Episode 590\tAverage Score: -1282.42\n",
      "Episode 600\tAverage Score: -1285.52\n",
      "Episode 610\tAverage Score: -1178.11\n",
      "Episode 620\tAverage Score: -1207.98\n",
      "Episode 630\tAverage Score: -1136.31\n",
      "Episode 640\tAverage Score: -1164.37\n",
      "Episode 650\tAverage Score: -1188.31\n",
      "Episode 660\tAverage Score: -1315.60\n",
      "Episode 670\tAverage Score: -1202.80\n",
      "Episode 680\tAverage Score: -1198.10\n",
      "Episode 690\tAverage Score: -1300.46\n",
      "Episode 700\tAverage Score: -1278.33\n",
      "Episode 710\tAverage Score: -1331.80\n",
      "Episode 720\tAverage Score: -1238.36\n",
      "Episode 730\tAverage Score: -1282.93\n",
      "Episode 740\tAverage Score: -1062.96\n",
      "Episode 750\tAverage Score: -1152.08\n",
      "Episode 760\tAverage Score: -1174.97\n",
      "Episode 770\tAverage Score: -1143.58\n",
      "Episode 780\tAverage Score: -1102.30\n",
      "Episode 790\tAverage Score: -1240.21\n",
      "Episode 800\tAverage Score: -1222.76\n",
      "Episode 810\tAverage Score: -1188.69\n",
      "Episode 820\tAverage Score: -1228.56\n",
      "Episode 830\tAverage Score: -1093.13\n",
      "Episode 840\tAverage Score: -1198.42\n",
      "Episode 850\tAverage Score: -1151.83\n",
      "Episode 860\tAverage Score: -1279.55\n",
      "Episode 870\tAverage Score: -1142.42\n",
      "Episode 880\tAverage Score: -1060.31\n",
      "Episode 890\tAverage Score: -1256.42\n",
      "Episode 900\tAverage Score: -1122.90\n",
      "Episode 910\tAverage Score: -1148.10\n",
      "Episode 920\tAverage Score: -1205.42\n",
      "Episode 930\tAverage Score: -1151.64\n",
      "Episode 940\tAverage Score: -1163.92\n",
      "Episode 950\tAverage Score: -1031.13\n",
      "Episode 960\tAverage Score: -1121.01\n",
      "Episode 970\tAverage Score: -1107.78\n",
      "Episode 980\tAverage Score: -1258.05\n",
      "Episode 990\tAverage Score: -1184.55\n",
      "Episode 1000\tAverage Score: -1284.28\n"
     ]
    },
    {
     "data": {
      "image/png": "[encoded data removed]",
      "text/plain": [
       "<Figure size 432x288 with 1 Axes>"
      ]
     },
     "metadata": {
      "needs_background": "light"
     },
     "output_type": "display_data"
    }
   ],
   "source": [
    "scores = reinforce()\n",
    "\n",
    "%matplotlib inline\n",
    "fig = plt.figure()\n",
    "ax = fig.add_subplot(111)\n",
    "plt.plot(np.arange(1, len(scores)+1), scores)\n",
    "plt.ylabel('Score')\n",
    "plt.xlabel('Episode #')\n",
    "plt.show()"
   ]
  },
  {
   "cell_type": "markdown",
   "id": "461bfda1",
   "metadata": {},
   "source": [
    "# 7. Test the trained agent for 1 episode"
   ]
  },
  {
   "cell_type": "code",
   "execution_count": 7,
   "id": "2d72c0c3",
   "metadata": {
    "scrolled": false
   },
   "outputs": [
    {
     "name": "stderr",
     "output_type": "stream",
     "text": [
      "2022-04-20 13:05:20.803 python[20041:4385745] Warning: Expected min height of view: (<NSPopoverTouchBarItemButton: 0x7f7f42addae0>) to be less than or equal to 30 but got a height of 32.000000. This error will be logged once per view in violation.\n",
      "2022-04-20 13:05:20.804 python[20041:4385745] Warning: Expected min height of view: (<NSButton: 0x7f7f434852f0>) to be less than or equal to 30 but got a height of 32.000000. This error will be logged once per view in violation.\n",
      "2022-04-20 13:05:20.806 python[20041:4385745] Warning: Expected min height of view: (<NSPopoverTouchBarItemButton: 0x7f7f43485c40>) to be less than or equal to 30 but got a height of 32.000000. This error will be logged once per view in violation.\n",
      "2022-04-20 13:05:20.808 python[20041:4385745] Warning: Expected min height of view: (<NSPopoverTouchBarItemButton: 0x7f7f43488450>) to be less than or equal to 30 but got a height of 32.000000. This error will be logged once per view in violation.\n"
     ]
    }
   ],
   "source": [
    "state = env.reset()\n",
    "for t in range(200):\n",
    "    action, _ = policy.act(state)\n",
    "    env.render()\n",
    "    state, reward, done, _ = env.step([action])\n",
    "\n",
    "env.close()"
   ]
  },
  {
   "cell_type": "markdown",
   "id": "ca416f2a",
   "metadata": {},
   "source": [
    "# Debug"
   ]
  },
  {
   "cell_type": "code",
   "execution_count": 8,
   "id": "360d28ce",
   "metadata": {
    "scrolled": true
   },
   "outputs": [
    {
     "name": "stderr",
     "output_type": "stream",
     "text": [
      "2022-04-20 13:05:24.675 python[20041:4385745] Warning: Expected min height of view: (<NSPopoverTouchBarItemButton: 0x7f7f434b0430>) to be less than or equal to 30 but got a height of 32.000000. This error will be logged once per view in violation.\n",
      "2022-04-20 13:05:24.675 python[20041:4385745] Warning: Expected min height of view: (<NSButton: 0x7f7f41573d60>) to be less than or equal to 30 but got a height of 32.000000. This error will be logged once per view in violation.\n",
      "2022-04-20 13:05:24.678 python[20041:4385745] Warning: Expected min height of view: (<NSPopoverTouchBarItemButton: 0x7f7f41574260>) to be less than or equal to 30 but got a height of 32.000000. This error will be logged once per view in violation.\n",
      "2022-04-20 13:05:24.680 python[20041:4385745] Warning: Expected min height of view: (<NSPopoverTouchBarItemButton: 0x7f7f412de570>) to be less than or equal to 30 but got a height of 32.000000. This error will be logged once per view in violation.\n"
     ]
    },
    {
     "ename": "NameError",
     "evalue": "name 'gamma' is not defined",
     "output_type": "error",
     "traceback": [
      "\u001b[0;31m---------------------------------------------------------------------------\u001b[0m",
      "\u001b[0;31mNameError\u001b[0m                                 Traceback (most recent call last)",
      "Input \u001b[0;32mIn [8]\u001b[0m, in \u001b[0;36m<cell line: 6>\u001b[0;34m()\u001b[0m\n\u001b[1;32m      7\u001b[0m     env\u001b[38;5;241m.\u001b[39mrender()\n\u001b[1;32m      8\u001b[0m     state, reward, done, _ \u001b[38;5;241m=\u001b[39m env\u001b[38;5;241m.\u001b[39mstep([\u001b[38;5;241m-\u001b[39m\u001b[38;5;241m2\u001b[39m])\n\u001b[0;32m----> 9\u001b[0m     discounted_reward \u001b[38;5;241m=\u001b[39m reward\u001b[38;5;241m*\u001b[39m\u001b[43mgamma\u001b[49m\u001b[38;5;241m*\u001b[39m\u001b[38;5;241m*\u001b[39mt\n\u001b[1;32m     10\u001b[0m     discounted_rewards\u001b[38;5;241m.\u001b[39mappend(discounted_reward)\n\u001b[1;32m     12\u001b[0m env\u001b[38;5;241m.\u001b[39mclose()\n",
      "\u001b[0;31mNameError\u001b[0m: name 'gamma' is not defined"
     ]
    }
   ],
   "source": [
    "state = env.reset()\n",
    "\n",
    "discounted_rewards = []\n",
    "rewards_togo = []\n",
    "\n",
    "for t in range(5):\n",
    "    env.render()\n",
    "    state, reward, done, _ = env.step([-2])\n",
    "    discounted_reward = reward*gamma**t\n",
    "    discounted_rewards.append(discounted_reward)\n",
    "    \n",
    "env.close()"
   ]
  }
 ],
 "metadata": {
  "kernelspec": {
   "display_name": "Python 3 (ipykernel)",
   "language": "python",
   "name": "python3"
  },
  "language_info": {
   "codemirror_mode": {
    "name": "ipython",
    "version": 3
   },
   "file_extension": ".py",
   "mimetype": "text/x-python",
   "name": "python",
   "nbconvert_exporter": "python",
   "pygments_lexer": "ipython3",
   "version": "3.8.8"
  }
 },
 "nbformat": 4,
 "nbformat_minor": 5
}
