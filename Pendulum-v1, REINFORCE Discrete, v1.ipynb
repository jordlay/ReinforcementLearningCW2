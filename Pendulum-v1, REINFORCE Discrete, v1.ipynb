{
 "cells": [
  {
   "cell_type": "markdown",
   "id": "c54b1edb",
   "metadata": {},
   "source": [
    "# 1. Understand the environment"
   ]
  },
  {
   "cell_type": "code",
   "execution_count": 1,
   "id": "64e44e80",
   "metadata": {},
   "outputs": [
    {
     "data": {
      "text/plain": [
       "\"\\nUnimportant parameters of environment:\\nm = 1.0 \\ndt = 0.05 distance time \\nl = 1.0 rod length\\n\\nImportant parameters of environment:\\nth = angle in radians normalized between [-pi, pi] with 0 being in the upright position\\nthdot = angular velocity of free end\\nx = cos(th) aka coordinate of free end\\ny = sin(th) aka coordinate of free end\\nu = torque in Nm (+ve counter-clockwise) applied to free end. Will clip e.g. if 3, will clip to 2.\\ng = acceleration of gravity in m**2. Default value is 10.0. Can change e.g. gym.make('Pendulum-v1', g=9.81)\\n\\nObservation space:\\n| 0   | x         | -1.0 | 1.0 |\\n| 1   | y         | -1.0 | 1.0 |\\n| 2   | thdot     | -8.0 | 8.0 |\\n\\nAction space: \\n| 0   | u       | -2.0 | 2.0 |\\n\\nTransition dynamics (clips if outside bounds)\\nnew_thdot = thdot + (3 * g / (2 * l) * np.sin(th) + 3.0 / (m * l**2) * u) * dt\\nnew_th = th + newthdot * dt\\n\\nReward:\\nr = -(th**2 + 0.1 * thdot**2 + 0.001 * u**2)\\nMin reward = -(pi**2 + 0.1 * 8**2 + 0.001 * 2**2) = -16.2736044\\nMax reward = 0 when upright with zero velocity and no torque applied \\n\\nStarting state:\\nRandom theta in [-pi, pi] and a random theta_dt in [-1,1]\\n\\nTermination:\\nEpisode terminates at 200 time steps and will never terminate before this even if upright\\n\""
      ]
     },
     "execution_count": 1,
     "metadata": {},
     "output_type": "execute_result"
    }
   ],
   "source": [
    "\"\"\"\n",
    "Unimportant parameters of environment:\n",
    "m = 1.0 \n",
    "dt = 0.05 distance time \n",
    "l = 1.0 rod length\n",
    "\n",
    "Important parameters of environment:\n",
    "th = angle in radians normalized between [-pi, pi] with 0 being in the upright position\n",
    "thdot = angular velocity of free end\n",
    "x = cos(th) aka coordinate of free end\n",
    "y = sin(th) aka coordinate of free end\n",
    "u = torque in Nm (+ve counter-clockwise) applied to free end. Will clip e.g. if 3, will clip to 2.\n",
    "g = acceleration of gravity in m**2. Default value is 10.0. Can change e.g. gym.make('Pendulum-v1', g=9.81)\n",
    "\n",
    "Observation space:\n",
    "| 0   | x         | -1.0 | 1.0 |\n",
    "| 1   | y         | -1.0 | 1.0 |\n",
    "| 2   | thdot     | -8.0 | 8.0 |\n",
    "\n",
    "Action space: \n",
    "| 0   | u       | -2.0 | 2.0 |\n",
    "\n",
    "Transition dynamics (clips if outside bounds)\n",
    "new_thdot = thdot + (3 * g / (2 * l) * np.sin(th) + 3.0 / (m * l**2) * u) * dt\n",
    "new_th = th + newthdot * dt\n",
    "\n",
    "Reward:\n",
    "r = -(th**2 + 0.1 * thdot**2 + 0.001 * u**2)\n",
    "Min reward = -(pi**2 + 0.1 * 8**2 + 0.001 * 2**2) = -16.2736044\n",
    "Max reward = 0 when upright with zero velocity and no torque applied \n",
    "\n",
    "Starting state:\n",
    "Random theta in [-pi, pi] and a random theta_dt in [-1,1]\n",
    "\n",
    "Termination:\n",
    "Episode terminates at 200 time steps and will never terminate before this even if upright\n",
    "\"\"\""
   ]
  },
  {
   "cell_type": "markdown",
   "id": "9dc72f9d",
   "metadata": {},
   "source": [
    "# 2. Imports and prequesites"
   ]
  },
  {
   "cell_type": "code",
   "execution_count": 2,
   "id": "f87e207b",
   "metadata": {},
   "outputs": [],
   "source": [
    "import gym\n",
    "import numpy as np\n",
    "from collections import deque\n",
    "import matplotlib.pyplot as plt\n",
    "import torch\n",
    "import torch.nn as nn\n",
    "import torch.nn.functional as F\n",
    "import torch.optim as optim\n",
    "from torch.distributions import Normal\n",
    "from torch.distributions import Categorical\n",
    "\n",
    "device = torch.device(\"cuda:0\" if torch.cuda.is_available() else \"cpu\") # Runs on GPU if available, otherwise runs on CPU"
   ]
  },
  {
   "cell_type": "markdown",
   "id": "8b9ca825",
   "metadata": {},
   "source": [
    "# 3. Test the environment"
   ]
  },
  {
   "cell_type": "code",
   "execution_count": 3,
   "id": "cf1c77df",
   "metadata": {},
   "outputs": [
    {
     "name": "stdout",
     "output_type": "stream",
     "text": [
      "Start state: [-0.9422352  -0.33495203  0.9307819 ]\n",
      "Observation space: Box([-1. -1. -8.], [1. 1. 8.], (3,), float32)\n",
      "Action space: Box([-2.], [2.], (1,), float32)\n",
      "Step: (array([-0.9268331, -0.3754736,  0.8670679], dtype=float32), -7.928412733658928, False, {})\n",
      "State: [-2.75668495  0.86706786]\n",
      "Action list: [-1.8498893]\n",
      "Action item: -1.8498892784118652\n"
     ]
    }
   ],
   "source": [
    "env = gym.make('Pendulum-v1')\n",
    "env.seed(0)\n",
    "print('Start state:', env.reset())\n",
    "print('Observation space:', env.observation_space)\n",
    "print('Action space:', env.action_space)\n",
    "print('Step:', env.step([1.25]))\n",
    "print('State:', env.state)\n",
    "action = env.action_space.sample()\n",
    "print('Action list:', action)\n",
    "print('Action item:', action.item())"
   ]
  },
  {
   "cell_type": "markdown",
   "id": "334c87e5",
   "metadata": {},
   "source": [
    "# 4. Define the neural network¶"
   ]
  },
  {
   "cell_type": "code",
   "execution_count": 4,
   "id": "fb7b3268",
   "metadata": {},
   "outputs": [],
   "source": [
    "class PolicyNetwork(nn.Module):\n",
    "    def __init__(self, s_size, h_size, a_size):\n",
    "        super(PolicyNetwork, self).__init__() \n",
    "        self.fc1 = nn.Linear(s_size, h_size)\n",
    "        self.fc2 = nn.Linear(h_size, h_size)\n",
    "        self.fc3 = nn.Linear(h_size, a_size)\n",
    "        \n",
    "    def forward(self, x):\n",
    "        x = F.relu(self.fc1(x)) \n",
    "        x = F.relu(self.fc2(x))\n",
    "        x = self.fc3(x)\n",
    "        return F.softmax(x, dim=0)"
   ]
  },
  {
   "cell_type": "markdown",
   "id": "5dcc9089",
   "metadata": {},
   "source": [
    "# 5. Instantiate the neural network"
   ]
  },
  {
   "cell_type": "code",
   "execution_count": 5,
   "id": "be604659",
   "metadata": {},
   "outputs": [],
   "source": [
    "policy = PolicyNetwork(s_size = 3, h_size = 64, a_size = 1001)\n",
    "optimizer = optim.Adam(policy.parameters(), lr=0.0001) "
   ]
  },
  {
   "cell_type": "markdown",
   "id": "c0b7162a",
   "metadata": {},
   "source": [
    "# 6. Define the algorithm to be used"
   ]
  },
  {
   "cell_type": "code",
   "execution_count": 6,
   "id": "423d5eb2",
   "metadata": {},
   "outputs": [],
   "source": [
    "def reinforce(n_episodes=10000, gamma=1.0, print_every=100):\n",
    "\n",
    "    scores = []\n",
    "    scores_deque = deque(maxlen=print_every) \n",
    "    \n",
    "    for i_episode in range(1, n_episodes+1):\n",
    "        state = env.reset()\n",
    "        discounted_rewards = []\n",
    "        saved_log_probs = []\n",
    "        \n",
    "        terminal = False \n",
    "        step = 1\n",
    "        \n",
    "        while not terminal:\n",
    "            state = torch.from_numpy(state).float()\n",
    "            probs = policy(state) \n",
    "#             print(probs)\n",
    "            \n",
    "            distribution = Categorical(probs)\n",
    "            action = distribution.sample()\n",
    "            log_prob = distribution.log_prob(action)\n",
    "            saved_log_probs.append(log_prob)\n",
    "            action = -2 + action*0.004\n",
    "            next_state, reward, terminal, done = env.step([action])\n",
    "            discounted_reward = reward*(gamma**step)\n",
    "            discounted_rewards.append(discounted_reward)     \n",
    "        \n",
    "            if done == True:\n",
    "                terminal = True\n",
    "            else: \n",
    "                step = step + 1\n",
    "                state = next_state\n",
    "        \n",
    "        G = sum(discounted_rewards)\n",
    "        scores_deque.append(G)\n",
    "        scores.append(G)\n",
    "        \n",
    "        rewards_togo = []\n",
    "        for t in range(1, step): \n",
    "            rewards_togo.append(sum(discounted_rewards))\n",
    "            discounted_rewards.pop(0)\n",
    "        \n",
    "        policy_loss = []\n",
    "\n",
    "        for t in range(1, step): \n",
    "            policy_loss.append(-saved_log_probs[t-1] * rewards_togo[t-1])\n",
    "        \n",
    "        policy_loss = torch.stack(policy_loss).sum() #Concatenates then sums the list? Stack?\n",
    "        optimizer.zero_grad() #Sets the gradients of all optimized tensors to 0?\n",
    "        policy_loss.backward() #Computes policy gradients with respect to all parameters?\n",
    "        optimizer.step() #Update the parameters in the neural network\n",
    "        \n",
    "        if i_episode % print_every == 0: \n",
    "            print('Episode {}\\tAverage Score: {:.2f}'.format(i_episode, np.mean(scores_deque)))\n",
    "        \n",
    "    return scores"
   ]
  },
  {
   "cell_type": "markdown",
   "id": "f2221b67",
   "metadata": {},
   "source": [
    "# 7. Train the agent"
   ]
  },
  {
   "cell_type": "code",
   "execution_count": 7,
   "id": "8c137e24",
   "metadata": {
    "scrolled": false
   },
   "outputs": [
    {
     "name": "stdout",
     "output_type": "stream",
     "text": [
      "Episode 100\tAverage Score: -1225.65\n",
      "Episode 200\tAverage Score: -1263.00\n",
      "Episode 300\tAverage Score: -1172.25\n",
      "Episode 400\tAverage Score: -1200.35\n",
      "Episode 500\tAverage Score: -1160.79\n",
      "Episode 600\tAverage Score: -1221.26\n",
      "Episode 700\tAverage Score: -1189.19\n",
      "Episode 800\tAverage Score: -1205.65\n",
      "Episode 900\tAverage Score: -1233.79\n",
      "Episode 1000\tAverage Score: -1217.01\n",
      "Episode 1100\tAverage Score: -1189.64\n",
      "Episode 1200\tAverage Score: -1170.65\n",
      "Episode 1300\tAverage Score: -1171.93\n",
      "Episode 1400\tAverage Score: -1206.40\n",
      "Episode 1500\tAverage Score: -1198.87\n",
      "Episode 1600\tAverage Score: -1165.19\n",
      "Episode 1700\tAverage Score: -1207.54\n",
      "Episode 1800\tAverage Score: -1162.05\n",
      "Episode 1900\tAverage Score: -1193.01\n",
      "Episode 2000\tAverage Score: -1166.41\n",
      "Episode 2100\tAverage Score: -1187.54\n",
      "Episode 2200\tAverage Score: -1223.15\n",
      "Episode 2300\tAverage Score: -1251.04\n",
      "Episode 2400\tAverage Score: -1306.07\n",
      "Episode 2500\tAverage Score: -1391.63\n",
      "Episode 2600\tAverage Score: -1365.64\n",
      "Episode 2700\tAverage Score: -1407.02\n",
      "Episode 2800\tAverage Score: -1370.18\n",
      "Episode 2900\tAverage Score: -1261.82\n",
      "Episode 3000\tAverage Score: -1226.84\n",
      "Episode 3100\tAverage Score: -1247.82\n",
      "Episode 3200\tAverage Score: -1240.00\n",
      "Episode 3300\tAverage Score: -1221.38\n",
      "Episode 3400\tAverage Score: -1260.30\n",
      "Episode 3500\tAverage Score: -1244.57\n",
      "Episode 3600\tAverage Score: -1251.39\n",
      "Episode 3700\tAverage Score: -1243.76\n",
      "Episode 3800\tAverage Score: -1262.51\n",
      "Episode 3900\tAverage Score: -1242.88\n",
      "Episode 4000\tAverage Score: -1247.55\n",
      "Episode 4100\tAverage Score: -1255.85\n",
      "Episode 4200\tAverage Score: -1239.59\n",
      "Episode 4300\tAverage Score: -1247.71\n",
      "Episode 4400\tAverage Score: -1220.90\n",
      "Episode 4500\tAverage Score: -1233.76\n",
      "Episode 4600\tAverage Score: -1219.90\n",
      "Episode 4700\tAverage Score: -1220.39\n",
      "Episode 4800\tAverage Score: -1203.17\n",
      "Episode 4900\tAverage Score: -1216.79\n",
      "Episode 5000\tAverage Score: -1264.21\n",
      "Episode 5100\tAverage Score: -1255.35\n",
      "Episode 5200\tAverage Score: -1276.06\n",
      "Episode 5300\tAverage Score: -1267.74\n",
      "Episode 5400\tAverage Score: -1243.49\n",
      "Episode 5500\tAverage Score: -1286.09\n",
      "Episode 5600\tAverage Score: -1313.94\n",
      "Episode 5700\tAverage Score: -1312.94\n",
      "Episode 5800\tAverage Score: -1286.33\n",
      "Episode 5900\tAverage Score: -1268.88\n",
      "Episode 6000\tAverage Score: -1293.94\n",
      "Episode 6100\tAverage Score: -1299.14\n",
      "Episode 6200\tAverage Score: -1269.81\n",
      "Episode 6300\tAverage Score: -1272.47\n",
      "Episode 6400\tAverage Score: -1314.99\n",
      "Episode 6500\tAverage Score: -1268.58\n",
      "Episode 6600\tAverage Score: -1259.76\n",
      "Episode 6700\tAverage Score: -1264.40\n",
      "Episode 6800\tAverage Score: -1266.88\n",
      "Episode 6900\tAverage Score: -1279.23\n",
      "Episode 7000\tAverage Score: -1295.41\n",
      "Episode 7100\tAverage Score: -1316.34\n",
      "Episode 7200\tAverage Score: -1274.80\n",
      "Episode 7300\tAverage Score: -1331.57\n",
      "Episode 7400\tAverage Score: -1250.39\n",
      "Episode 7500\tAverage Score: -1304.18\n",
      "Episode 7600\tAverage Score: -1253.63\n",
      "Episode 7700\tAverage Score: -1289.66\n",
      "Episode 7800\tAverage Score: -1273.81\n"
     ]
    },
    {
     "ename": "KeyboardInterrupt",
     "evalue": "",
     "output_type": "error",
     "traceback": [
      "\u001b[0;31m---------------------------------------------------------------------------\u001b[0m",
      "\u001b[0;31mKeyboardInterrupt\u001b[0m                         Traceback (most recent call last)",
      "Input \u001b[0;32mIn [7]\u001b[0m, in \u001b[0;36m<cell line: 1>\u001b[0;34m()\u001b[0m\n\u001b[0;32m----> 1\u001b[0m scores \u001b[38;5;241m=\u001b[39m \u001b[43mreinforce\u001b[49m\u001b[43m(\u001b[49m\u001b[43m)\u001b[49m\n",
      "Input \u001b[0;32mIn [6]\u001b[0m, in \u001b[0;36mreinforce\u001b[0;34m(n_episodes, gamma, print_every)\u001b[0m\n\u001b[1;32m     14\u001b[0m         \u001b[38;5;28;01mwhile\u001b[39;00m \u001b[38;5;129;01mnot\u001b[39;00m terminal:\n\u001b[1;32m     15\u001b[0m             state \u001b[38;5;241m=\u001b[39m torch\u001b[38;5;241m.\u001b[39mfrom_numpy(state)\u001b[38;5;241m.\u001b[39mfloat()\n\u001b[0;32m---> 16\u001b[0m             probs \u001b[38;5;241m=\u001b[39m \u001b[43mpolicy\u001b[49m\u001b[43m(\u001b[49m\u001b[43mstate\u001b[49m\u001b[43m)\u001b[49m \n\u001b[1;32m     17\u001b[0m \u001b[38;5;66;03m#             print(probs)\u001b[39;00m\n\u001b[1;32m     19\u001b[0m             distribution \u001b[38;5;241m=\u001b[39m Categorical(probs)\n",
      "File \u001b[0;32m/opt/anaconda3/lib/python3.8/site-packages/torch/nn/modules/module.py:1110\u001b[0m, in \u001b[0;36mModule._call_impl\u001b[0;34m(self, *input, **kwargs)\u001b[0m\n\u001b[1;32m   1106\u001b[0m \u001b[38;5;66;03m# If we don't have any hooks, we want to skip the rest of the logic in\u001b[39;00m\n\u001b[1;32m   1107\u001b[0m \u001b[38;5;66;03m# this function, and just call forward.\u001b[39;00m\n\u001b[1;32m   1108\u001b[0m \u001b[38;5;28;01mif\u001b[39;00m \u001b[38;5;129;01mnot\u001b[39;00m (\u001b[38;5;28mself\u001b[39m\u001b[38;5;241m.\u001b[39m_backward_hooks \u001b[38;5;129;01mor\u001b[39;00m \u001b[38;5;28mself\u001b[39m\u001b[38;5;241m.\u001b[39m_forward_hooks \u001b[38;5;129;01mor\u001b[39;00m \u001b[38;5;28mself\u001b[39m\u001b[38;5;241m.\u001b[39m_forward_pre_hooks \u001b[38;5;129;01mor\u001b[39;00m _global_backward_hooks\n\u001b[1;32m   1109\u001b[0m         \u001b[38;5;129;01mor\u001b[39;00m _global_forward_hooks \u001b[38;5;129;01mor\u001b[39;00m _global_forward_pre_hooks):\n\u001b[0;32m-> 1110\u001b[0m     \u001b[38;5;28;01mreturn\u001b[39;00m \u001b[43mforward_call\u001b[49m\u001b[43m(\u001b[49m\u001b[38;5;241;43m*\u001b[39;49m\u001b[38;5;28;43minput\u001b[39;49m\u001b[43m,\u001b[49m\u001b[43m \u001b[49m\u001b[38;5;241;43m*\u001b[39;49m\u001b[38;5;241;43m*\u001b[39;49m\u001b[43mkwargs\u001b[49m\u001b[43m)\u001b[49m\n\u001b[1;32m   1111\u001b[0m \u001b[38;5;66;03m# Do not call functions when jit is used\u001b[39;00m\n\u001b[1;32m   1112\u001b[0m full_backward_hooks, non_full_backward_hooks \u001b[38;5;241m=\u001b[39m [], []\n",
      "Input \u001b[0;32mIn [4]\u001b[0m, in \u001b[0;36mPolicyNetwork.forward\u001b[0;34m(self, x)\u001b[0m\n\u001b[1;32m      8\u001b[0m \u001b[38;5;28;01mdef\u001b[39;00m \u001b[38;5;21mforward\u001b[39m(\u001b[38;5;28mself\u001b[39m, x):\n\u001b[0;32m----> 9\u001b[0m     x \u001b[38;5;241m=\u001b[39m F\u001b[38;5;241m.\u001b[39mrelu(\u001b[38;5;28;43mself\u001b[39;49m\u001b[38;5;241;43m.\u001b[39;49m\u001b[43mfc1\u001b[49m\u001b[43m(\u001b[49m\u001b[43mx\u001b[49m\u001b[43m)\u001b[49m) \n\u001b[1;32m     10\u001b[0m     x \u001b[38;5;241m=\u001b[39m F\u001b[38;5;241m.\u001b[39mrelu(\u001b[38;5;28mself\u001b[39m\u001b[38;5;241m.\u001b[39mfc2(x))\n\u001b[1;32m     11\u001b[0m     x \u001b[38;5;241m=\u001b[39m \u001b[38;5;28mself\u001b[39m\u001b[38;5;241m.\u001b[39mfc3(x)\n",
      "File \u001b[0;32m/opt/anaconda3/lib/python3.8/site-packages/torch/nn/modules/module.py:1110\u001b[0m, in \u001b[0;36mModule._call_impl\u001b[0;34m(self, *input, **kwargs)\u001b[0m\n\u001b[1;32m   1106\u001b[0m \u001b[38;5;66;03m# If we don't have any hooks, we want to skip the rest of the logic in\u001b[39;00m\n\u001b[1;32m   1107\u001b[0m \u001b[38;5;66;03m# this function, and just call forward.\u001b[39;00m\n\u001b[1;32m   1108\u001b[0m \u001b[38;5;28;01mif\u001b[39;00m \u001b[38;5;129;01mnot\u001b[39;00m (\u001b[38;5;28mself\u001b[39m\u001b[38;5;241m.\u001b[39m_backward_hooks \u001b[38;5;129;01mor\u001b[39;00m \u001b[38;5;28mself\u001b[39m\u001b[38;5;241m.\u001b[39m_forward_hooks \u001b[38;5;129;01mor\u001b[39;00m \u001b[38;5;28mself\u001b[39m\u001b[38;5;241m.\u001b[39m_forward_pre_hooks \u001b[38;5;129;01mor\u001b[39;00m _global_backward_hooks\n\u001b[1;32m   1109\u001b[0m         \u001b[38;5;129;01mor\u001b[39;00m _global_forward_hooks \u001b[38;5;129;01mor\u001b[39;00m _global_forward_pre_hooks):\n\u001b[0;32m-> 1110\u001b[0m     \u001b[38;5;28;01mreturn\u001b[39;00m \u001b[43mforward_call\u001b[49m\u001b[43m(\u001b[49m\u001b[38;5;241;43m*\u001b[39;49m\u001b[38;5;28;43minput\u001b[39;49m\u001b[43m,\u001b[49m\u001b[43m \u001b[49m\u001b[38;5;241;43m*\u001b[39;49m\u001b[38;5;241;43m*\u001b[39;49m\u001b[43mkwargs\u001b[49m\u001b[43m)\u001b[49m\n\u001b[1;32m   1111\u001b[0m \u001b[38;5;66;03m# Do not call functions when jit is used\u001b[39;00m\n\u001b[1;32m   1112\u001b[0m full_backward_hooks, non_full_backward_hooks \u001b[38;5;241m=\u001b[39m [], []\n",
      "File \u001b[0;32m/opt/anaconda3/lib/python3.8/site-packages/torch/nn/modules/linear.py:103\u001b[0m, in \u001b[0;36mLinear.forward\u001b[0;34m(self, input)\u001b[0m\n\u001b[1;32m    102\u001b[0m \u001b[38;5;28;01mdef\u001b[39;00m \u001b[38;5;21mforward\u001b[39m(\u001b[38;5;28mself\u001b[39m, \u001b[38;5;28minput\u001b[39m: Tensor) \u001b[38;5;241m-\u001b[39m\u001b[38;5;241m>\u001b[39m Tensor:\n\u001b[0;32m--> 103\u001b[0m     \u001b[38;5;28;01mreturn\u001b[39;00m \u001b[43mF\u001b[49m\u001b[38;5;241;43m.\u001b[39;49m\u001b[43mlinear\u001b[49m\u001b[43m(\u001b[49m\u001b[38;5;28;43minput\u001b[39;49m\u001b[43m,\u001b[49m\u001b[43m \u001b[49m\u001b[38;5;28;43mself\u001b[39;49m\u001b[38;5;241;43m.\u001b[39;49m\u001b[43mweight\u001b[49m\u001b[43m,\u001b[49m\u001b[43m \u001b[49m\u001b[38;5;28;43mself\u001b[39;49m\u001b[38;5;241;43m.\u001b[39;49m\u001b[43mbias\u001b[49m\u001b[43m)\u001b[49m\n",
      "\u001b[0;31mKeyboardInterrupt\u001b[0m: "
     ]
    }
   ],
   "source": [
    "scores = reinforce()"
   ]
  },
  {
   "cell_type": "markdown",
   "id": "251dec85",
   "metadata": {},
   "source": [
    "# 8. Plot rewards over episodes"
   ]
  },
  {
   "cell_type": "code",
   "execution_count": null,
   "id": "3a54a38e",
   "metadata": {},
   "outputs": [],
   "source": [
    "%matplotlib inline\n",
    "fig = plt.figure()\n",
    "ax = fig.add_subplot(111)\n",
    "plt.plot(np.arange(1, len(scores)+1), scores)\n",
    "plt.ylabel('Score')\n",
    "plt.xlabel('Episode #')\n",
    "plt.show()"
   ]
  },
  {
   "cell_type": "markdown",
   "id": "461bfda1",
   "metadata": {},
   "source": [
    "# 9. Test the trained agent"
   ]
  },
  {
   "cell_type": "code",
   "execution_count": null,
   "id": "2d72c0c3",
   "metadata": {
    "scrolled": true
   },
   "outputs": [],
   "source": [
    "for i in range(10):\n",
    "    state = env.reset()\n",
    "    ep_reward = 0\n",
    "    terminal = False \n",
    "    step = 1 \n",
    "\n",
    "    while not terminal:\n",
    "        env.render()\n",
    "        state = torch.from_numpy(state).float()\n",
    "        params = policy(state) \n",
    "        mu = F.tanh(params[0]) * 2\n",
    "        sigma = F.softplus(params[1])\n",
    "        distribution = Normal(mu, sigma)\n",
    "        action = distribution.sample()\n",
    "        next_state, reward, terminal, done = env.step([action])\n",
    "        ep_reward = ep_reward + reward\n",
    "        print(\"Step:\", step)\n",
    "        print(\"Action:\", action)\n",
    "        print(\"Reward:\", reward)\n",
    "        \n",
    "        if done == True:\n",
    "            terminal = True\n",
    "        else: \n",
    "            step = step + 1\n",
    "            state = next_state\n",
    "            \n",
    "    print('Episode reward:', ep_reward)  \n",
    "\n",
    "env.close()"
   ]
  },
  {
   "cell_type": "markdown",
   "id": "d755138d",
   "metadata": {},
   "source": [
    "# 10. Compare to random agent"
   ]
  },
  {
   "cell_type": "code",
   "execution_count": null,
   "id": "60fe8e92",
   "metadata": {
    "scrolled": true
   },
   "outputs": [],
   "source": [
    "for i in range(10):\n",
    "    state = env.reset()\n",
    "    ep_reward = 0\n",
    "    terminal = False \n",
    "    step = 1 \n",
    "\n",
    "    while not terminal:\n",
    "        env.render()\n",
    "        next_state, reward, terminal, done = env.step(env.action_space.sample())\n",
    "        ep_reward = ep_reward + reward\n",
    "        print(\"Step:\", step)\n",
    "        print(\"Action:\", action)\n",
    "        print(\"Reward:\", reward)\n",
    "        \n",
    "        if done == True:\n",
    "            terminal = True\n",
    "        else: \n",
    "            step = step + 1\n",
    "            state = next_state\n",
    "            \n",
    "    print('Episode reward:', ep_reward)  \n",
    "\n",
    "env.close()"
   ]
  },
  {
   "cell_type": "markdown",
   "id": "f874e8ad",
   "metadata": {},
   "source": [
    "# "
   ]
  }
 ],
 "metadata": {
  "kernelspec": {
   "display_name": "Python 3 (ipykernel)",
   "language": "python",
   "name": "python3"
  },
  "language_info": {
   "codemirror_mode": {
    "name": "ipython",
    "version": 3
   },
   "file_extension": ".py",
   "mimetype": "text/x-python",
   "name": "python",
   "nbconvert_exporter": "python",
   "pygments_lexer": "ipython3",
   "version": "3.8.8"
  }
 },
 "nbformat": 4,
 "nbformat_minor": 5
}
