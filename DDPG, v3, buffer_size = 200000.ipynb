{
 "cells": [
  {
   "cell_type": "code",
   "execution_count": 1,
   "id": "33fd9c6e",
   "metadata": {},
   "outputs": [],
   "source": [
    "import numpy as np\n",
    "import gym\n",
    "import random\n",
    "import copy\n",
    "from collections import deque\n",
    "\n",
    "import torch\n",
    "import torch.nn as nn\n",
    "import torch.nn.functional as F\n",
    "import torch.optim as optim\n",
    "\n",
    "from matplotlib import pyplot as plt"
   ]
  },
  {
   "cell_type": "code",
   "execution_count": 2,
   "id": "efce3ee2",
   "metadata": {},
   "outputs": [],
   "source": [
    "class Actor(nn.Module):\n",
    "    def __init__(self, scaling, state_size, hidden_size, action_size):\n",
    "        super(Actor, self).__init__()\n",
    "        self.fc1 = nn.Linear(state_size, hidden_size)\n",
    "        self.fc2 = nn.Linear(hidden_size, hidden_size)\n",
    "        self.fc3 = nn.Linear(hidden_size, action_size)\n",
    "        \n",
    "    def forward(self, state):\n",
    "        x = F.relu(self.fc1(state))\n",
    "        x = F.relu(self.fc2(x))\n",
    "        return torch.tanh(self.fc3(x)) * scaling"
   ]
  },
  {
   "cell_type": "code",
   "execution_count": 3,
   "id": "3a71d4c3",
   "metadata": {},
   "outputs": [],
   "source": [
    "class Critic(nn.Module):\n",
    "    def __init__(self, state_size, hidden_size, action_size):\n",
    "        super(Critic, self).__init__()\n",
    "        self.fc1 = nn.Linear(state_size + action_size, hidden_size)\n",
    "        self.fc2 = nn.Linear(hidden_size, hidden_size)\n",
    "        self.fc3 = nn.Linear(hidden_size, 1)\n",
    "    \n",
    "    def forward(self, state, action):\n",
    "        x = torch.cat([state, action], 1)\n",
    "        x = F.relu(self.fc1(x))\n",
    "        x = F.relu(self.fc2(x))\n",
    "        return self.fc3(x)"
   ]
  },
  {
   "cell_type": "code",
   "execution_count": 4,
   "id": "5b4f5cad",
   "metadata": {},
   "outputs": [],
   "source": [
    "class DDPG_Agent():\n",
    "    def __init__(self, scaling, render, buffer_size, batch_size, gamma, tau, noise,\n",
    "                state_size, hidden_size, action_size, actor_lr, critic_lr):\n",
    "        \n",
    "        self.scaling = scaling\n",
    "        self.render = render\n",
    "        self.buffer_size = buffer_size\n",
    "        self.batch_size = batch_size\n",
    "        self.gamma = gamma\n",
    "        self.tau = tau\n",
    "        self.noise = noise\n",
    "        \n",
    "        self.state_size = state_size\n",
    "        self.hidden_size = hidden_size\n",
    "        self.action_size = action_size\n",
    "        self.actor_lr = actor_lr\n",
    "        self.critic_lr = critic_lr\n",
    "        \n",
    "        self.actor = Actor(scaling, state_size, hidden_size, action_size)\n",
    "        self.critic = Critic(state_size, hidden_size, action_size)\n",
    "        self.target_actor = copy.deepcopy(self.actor)\n",
    "        self.target_critic = copy.deepcopy(self.critic)\n",
    "        self.actor_optimizer = torch.optim.Adam(self.actor.parameters(), lr = actor_lr)\n",
    "        self.critic_optimizer = torch.optim.Adam(self.critic.parameters(), lr = critic_lr)\n",
    "        \n",
    "        self.state_memory = []\n",
    "        self.next_state_memory = []\n",
    "        self.action_memory = []\n",
    "        self.reward_memory = []\n",
    "        self.terminal_memory = []\n",
    "        self.memory_counter = 0\n",
    "        \n",
    "    def train(self):\n",
    "        state = env.reset()\n",
    "        ep_reward = 0\n",
    "        num_step = 0\n",
    "        terminal = False\n",
    "        \n",
    "        while not terminal:\n",
    "            \n",
    "            if self.render:\n",
    "                env.render()\n",
    "                \n",
    "            tensor_state = torch.from_numpy(state).float()            \n",
    "            action = self.actor(tensor_state)\n",
    "            action = torch.add(action, torch.from_numpy(np.random.normal(0, self.noise, self.action_size)))\n",
    "            action = action.detach().numpy()\n",
    "            next_state, reward, terminal, _ = env.step(action)\n",
    "            ep_reward += reward\n",
    "\n",
    "            if self.memory_counter < self.buffer_size: \n",
    "                self.state_memory.append(state)\n",
    "                self.next_state_memory.append(next_state)\n",
    "                self.action_memory.append(action)\n",
    "                self.reward_memory.append(reward)\n",
    "                self.terminal_memory.append(1 - terminal) # terminal = 1 if true so 0 if terminal            \n",
    "            else:     \n",
    "                index = self.memory_counter % self.buffer_size\n",
    "                self.state_memory[index] = state\n",
    "                self.next_state_memory[index] = next_state\n",
    "                self.action_memory[index] = action\n",
    "                self.reward_memory[index] = reward\n",
    "                self.terminal_memory[index] = 1 - terminal\n",
    "            self.memory_counter += 1 \n",
    "                \n",
    "            # If more items in memory list than batch size, sample items from each memory list\n",
    "            if self.memory_counter >= self.batch_size: \n",
    "                batch = random.sample(range(len(self.state_memory)), self.batch_size) \n",
    "                states = []\n",
    "                next_states = []\n",
    "                actions = []\n",
    "                rewards = []\n",
    "                terminals = []\n",
    "                \n",
    "                for item in batch:\n",
    "                    states.append(self.state_memory[item])\n",
    "                    next_states.append(self.next_state_memory[item])\n",
    "                    actions.append(self.action_memory[item])\n",
    "                    rewards.append(self.reward_memory[item])\n",
    "                    terminals.append(self.terminal_memory[item])\n",
    "                \n",
    "                # Reformat sample lists \n",
    "                states = np.array(states)\n",
    "                next_states = np.array(next_states)\n",
    "                actions = np.array(actions)\n",
    "                states = torch.tensor(states)\n",
    "                next_states = torch.tensor(next_states)\n",
    "                actions = torch.tensor(actions)\n",
    "                states = states.to(torch.float32) \n",
    "                actions = actions.to(torch.float32) \n",
    "                next_states = next_states.to(torch.float32) \n",
    "                \n",
    "                # Gradient descent on critic prep\n",
    "                target_actions = self.target_actor(next_states)\n",
    "                next_Qtargets = self.target_critic(next_states, target_actions)\n",
    "                Qtargets = []\n",
    "                for i in range(self.batch_size):\n",
    "                    Qtargets.append(rewards[i] + self.gamma * next_Qtargets[i] * terminals[i]) # If next state terminal, will be 0\n",
    "                Qtargets = torch.tensor(Qtargets)\n",
    "                Qtargets = Qtargets.view(self.batch_size, 1)\n",
    "                \n",
    "                # Gradient descent on critic\n",
    "                Qexpected = self.critic(states, actions)\n",
    "                critic_loss = nn.MSELoss()(Qexpected, Qtargets)\n",
    "                self.critic_optimizer.zero_grad()\n",
    "                critic_loss.backward()\n",
    "                self.critic_optimizer.step()\n",
    "\n",
    "                # Gradient ascent on actor\n",
    "                actions_predicted = self.actor(states)\n",
    "                actor_loss = -self.critic(states, actions_predicted)\n",
    "                actor_loss = torch.mean(actor_loss)\n",
    "                self.actor_optimizer.zero_grad()\n",
    "                actor_loss.backward()\n",
    "                self.actor_optimizer.step()\n",
    "\n",
    "                # Update target networks\n",
    "                with torch.no_grad():\n",
    "                    for target_parameter, parameter in zip(self.target_critic.parameters(), self.critic.parameters()):\n",
    "                        target_parameter.copy_((target_parameter * (1 - self.tau)) + (parameter * self.tau))                    \n",
    "\n",
    "                with torch.no_grad():\n",
    "                    for target_parameter, parameter in zip(self.target_actor.parameters(), self.actor.parameters()):\n",
    "                        target_parameter.copy_((target_parameter * (1 - self.tau)) + (parameter * self.tau))   \n",
    "                \n",
    "            state = next_state\n",
    "            num_step += 1\n",
    "            \n",
    "        if self.render:\n",
    "            env.close()\n",
    "            \n",
    "        return ep_reward\n",
    "     \n",
    "    def test(self):\n",
    "        \n",
    "        scores = []\n",
    "        \n",
    "        for i in range(100):\n",
    "            state = env.reset()\n",
    "            terminal = False\n",
    "            ep_reward = 0\n",
    "\n",
    "            while not terminal:\n",
    "                tensor_state = torch.from_numpy(state).float()\n",
    "                action = self.actor(tensor_state)\n",
    "                action = action.detach().numpy()\n",
    "                next_state, reward, terminal, _ = env.step(action)\n",
    "                ep_reward += reward \n",
    "                state = next_state\n",
    "                \n",
    "            scores.append(ep_reward)\n",
    "        \n",
    "        print('Scores during testing')\n",
    "        print('Mean score:', np.mean(scores))\n",
    "        x = [i for i in range(1, len(scores)+1)]\n",
    "        plt.plot(x, scores)\n",
    "        plt.ylabel('Score')\n",
    "        plt.xlabel('Episodes')\n",
    "        plt.show()\n",
    "        \n",
    "    def visualise(self):\n",
    "        for i in range(10):\n",
    "            state = env.reset()\n",
    "            terminal = False\n",
    "            ep_reward = 0\n",
    "\n",
    "            while not terminal:\n",
    "                env.render()\n",
    "                tensor_state = torch.from_numpy(state).float()\n",
    "                action = self.actor(tensor_state)\n",
    "                action = action.detach().numpy()\n",
    "                next_state, reward, terminal, _ = env.step(action)\n",
    "                ep_reward += reward \n",
    "                state = next_state\n",
    "\n",
    "            print('Episode reward:', ep_reward)\n",
    "            env.close()"
   ]
  },
  {
   "cell_type": "code",
   "execution_count": 5,
   "id": "792bd6ca",
   "metadata": {
    "scrolled": false
   },
   "outputs": [
    {
     "name": "stdout",
     "output_type": "stream",
     "text": [
      "*************************************************************\n",
      "Agent 1\n",
      "Episode: 100 Score: -118.300 \t Mean score over last 100 episodes: -111.388\n",
      "Episode: 200 Score: -107.775 \t Mean score over last 100 episodes: -117.100\n",
      "Episode: 300 Score: -111.834 \t Mean score over last 100 episodes: -109.294\n",
      "Episode: 400 Score: -114.077 \t Mean score over last 100 episodes: -120.942\n",
      "Episode: 500 Score: -118.778 \t Mean score over last 100 episodes: -131.075\n",
      "Episode: 600 Score: -114.255 \t Mean score over last 100 episodes: -115.947\n",
      "Episode: 700 Score: -115.934 \t Mean score over last 100 episodes: -124.264\n",
      "Episode: 800 Score: -127.865 \t Mean score over last 100 episodes: -132.934\n",
      "Episode: 900 Score: -160.323 \t Mean score over last 100 episodes: -138.541\n",
      "Episode: 1000 Score: -132.242 \t Mean score over last 100 episodes: -140.235\n",
      "Episode: 1100 Score: -159.329 \t Mean score over last 100 episodes: -137.111\n",
      "Episode: 1200 Score: -124.030 \t Mean score over last 100 episodes: -137.364\n",
      "Episode: 1300 Score: -138.456 \t Mean score over last 100 episodes: -137.646\n",
      "Episode: 1400 Score: -140.791 \t Mean score over last 100 episodes: -136.558\n",
      "Episode: 1500 Score: -139.719 \t Mean score over last 100 episodes: -137.242\n",
      "Episode: 1600 Score: -101.191 \t Mean score over last 100 episodes: -110.387\n",
      "Episode: 1700 Score: -147.066 \t Mean score over last 100 episodes: -115.634\n",
      "Episode: 1800 Score: -128.907 \t Mean score over last 100 episodes: -133.079\n",
      "Episode: 1900 Score: -150.884 \t Mean score over last 100 episodes: -145.184\n",
      "Episode: 2000 Score: -131.790 \t Mean score over last 100 episodes: -151.303\n",
      "Episode: 2100 Score: -149.458 \t Mean score over last 100 episodes: -137.017\n",
      "Episode: 2200 Score: -172.054 \t Mean score over last 100 episodes: -142.210\n",
      "Episode: 2300 Score: -129.700 \t Mean score over last 100 episodes: -144.682\n",
      "Episode: 2400 Score: -142.552 \t Mean score over last 100 episodes: -133.412\n",
      "Episode: 2500 Score: -132.090 \t Mean score over last 100 episodes: -135.093\n",
      "Episode: 2600 Score: -134.434 \t Mean score over last 100 episodes: -135.967\n",
      "Episode: 2700 Score: -135.630 \t Mean score over last 100 episodes: -142.961\n",
      "Episode: 2800 Score: -145.148 \t Mean score over last 100 episodes: -143.790\n",
      "Episode: 2900 Score: -115.638 \t Mean score over last 100 episodes: -139.940\n",
      "Episode: 3000 Score: -122.507 \t Mean score over last 100 episodes: -140.590\n",
      "*********************************\n",
      "Agent 1 complete \t Mean score of agent: -132.630\n",
      "BipedalWalker-v3 finished in 3000 episodes \t Mean score over last 100 episodes: -140.590\n",
      "*********************************\n",
      "Agent 1 scores during training\n"
     ]
    },
    {
     "data": {
      "image/png": "[encoded data removed]",
      "text/plain": [
       "<Figure size 432x288 with 1 Axes>"
      ]
     },
     "metadata": {
      "needs_background": "light"
     },
     "output_type": "display_data"
    },
    {
     "name": "stdout",
     "output_type": "stream",
     "text": [
      "Agent 1 mean score of last 100 episodes during training\n"
     ]
    },
    {
     "data": {
      "image/png": "[encoded data removed]",
      "text/plain": [
       "<Figure size 432x288 with 1 Axes>"
      ]
     },
     "metadata": {
      "needs_background": "light"
     },
     "output_type": "display_data"
    }
   ],
   "source": [
    "environment = 'BipedalWalker-v3' # Change environment name here\n",
    "env = gym.make(environment)\n",
    "\n",
    "if environment == 'Pendulum-v1':\n",
    "    scaling = 2\n",
    "    solved = -100\n",
    "elif environment == 'LunarLanderContinuous-v2':\n",
    "    scaling = 1\n",
    "    solved = 200 \n",
    "elif environment =='BipedalWalker-v3' or 'BipedalWalkerHardcore-v3':\n",
    "    scaling = 1\n",
    "    solved = 300 \n",
    "\n",
    "previous = 100\n",
    "print_every = 100\n",
    "agents = 1\n",
    "\n",
    "for i in range(1, agents + 1): \n",
    "    print('*************************************************************')\n",
    "    print('Agent {}'.format(i))\n",
    "\n",
    "    agent = DDPG_Agent(scaling = scaling, render = False, buffer_size = 200000, batch_size = 100, gamma = 0.99, tau = 0.001, noise = 0.05 * scaling,\n",
    "                state_size = env.observation_space.shape[0], hidden_size = 300, action_size = env.action_space.shape[0], actor_lr = 0.0001, critic_lr = 0.001)\n",
    "    agent_scores = [0]\n",
    "    agent_moving_means = [0]\n",
    "    episode = 1\n",
    "\n",
    "    while (agent_moving_means[-1] < solved or episode <= previous) and episode < 3001:\n",
    "\n",
    "        ep_reward = agent.train()\n",
    "\n",
    "        if episode == 1: \n",
    "            agent_scores[0] = ep_reward\n",
    "            agent_moving_means[0] = ep_reward\n",
    "        else:\n",
    "            agent_scores.append(ep_reward)\n",
    "            agent_moving_means.append(np.mean(agent_scores[-previous:])) \n",
    "\n",
    "        if episode % print_every == 0:\n",
    "            print('Episode: {} Score: {:.3f} \\t Mean score over last {} episodes: {:.3f}'.format(episode, ep_reward, previous, agent_moving_means[-1])) \n",
    "\n",
    "        episode += 1\n",
    "\n",
    "    episode -= 1\n",
    "    print('*********************************')\n",
    "    print('Agent {} complete \\t Mean score of agent: {:.3f}'.format(i, np.mean(agent_scores))) \n",
    "    print('{} finished in {} episodes \\t Mean score over last {} episodes: {:.3f}'.format(environment, episode, previous, agent_moving_means[-1]))\n",
    "    print('*********************************')\n",
    "\n",
    "    x = [i for i in range(1, len(agent_scores) + 1)]\n",
    "    print('Agent {} scores during training'.format(i))\n",
    "    plt.plot(x, agent_scores)\n",
    "    plt.ylabel('Score')\n",
    "    plt.xlabel('Episodes')              \n",
    "    plt.show()\n",
    "\n",
    "    x = [i for i in range(1, len(agent_moving_means) + 1)]\n",
    "    print('Agent {} mean score of last {} episodes during training'.format(i, previous))\n",
    "    plt.plot(x, agent_moving_means)\n",
    "    plt.ylabel('Mean score of last {} episodes'.format(previous))       \n",
    "    plt.xlabel('Episodes')\n",
    "    plt.show()"
   ]
  },
  {
   "cell_type": "code",
   "execution_count": 6,
   "id": "88b20cb9",
   "metadata": {
    "scrolled": true
   },
   "outputs": [
    {
     "name": "stdout",
     "output_type": "stream",
     "text": [
      "Scores during testing\n",
      "Mean score: -142.35509009456098\n"
     ]
    },
    {
     "data": {
      "image/png": "[encoded data removed]",
      "text/plain": [
       "<Figure size 432x288 with 1 Axes>"
      ]
     },
     "metadata": {
      "needs_background": "light"
     },
     "output_type": "display_data"
    }
   ],
   "source": [
    "agent.test()"
   ]
  },
  {
   "cell_type": "code",
   "execution_count": 7,
   "id": "984c6a5a",
   "metadata": {},
   "outputs": [
    {
     "name": "stderr",
     "output_type": "stream",
     "text": [
      "2022-05-03 22:36:27.793 python[29910:1002284] Warning: Expected min height of view: (<NSPopoverTouchBarItemButton: 0x7f7c3d58a6b0>) to be less than or equal to 30 but got a height of 32.000000. This error will be logged once per view in violation.\n",
      "2022-05-03 22:36:27.794 python[29910:1002284] Warning: Expected min height of view: (<NSButton: 0x7f7c209a87e0>) to be less than or equal to 30 but got a height of 32.000000. This error will be logged once per view in violation.\n",
      "2022-05-03 22:36:27.796 python[29910:1002284] Warning: Expected min height of view: (<NSPopoverTouchBarItemButton: 0x7f7c209757a0>) to be less than or equal to 30 but got a height of 32.000000. This error will be logged once per view in violation.\n",
      "2022-05-03 22:36:27.798 python[29910:1002284] Warning: Expected min height of view: (<NSPopoverTouchBarItemButton: 0x7f7c209d0fe0>) to be less than or equal to 30 but got a height of 32.000000. This error will be logged once per view in violation.\n"
     ]
    },
    {
     "name": "stdout",
     "output_type": "stream",
     "text": [
      "Episode reward: -149.02366873573618\n"
     ]
    },
    {
     "name": "stderr",
     "output_type": "stream",
     "text": [
      "2022-05-03 22:36:50.129 python[29910:1002284] Warning: Expected min height of view: (<NSPopoverTouchBarItemButton: 0x7f7c3d6880a0>) to be less than or equal to 30 but got a height of 32.000000. This error will be logged once per view in violation.\n",
      "2022-05-03 22:36:50.130 python[29910:1002284] Warning: Expected min height of view: (<NSButton: 0x7f7c20223c80>) to be less than or equal to 30 but got a height of 32.000000. This error will be logged once per view in violation.\n",
      "2022-05-03 22:36:50.133 python[29910:1002284] Warning: Expected min height of view: (<NSPopoverTouchBarItemButton: 0x7f7c221740f0>) to be less than or equal to 30 but got a height of 32.000000. This error will be logged once per view in violation.\n",
      "2022-05-03 22:36:50.136 python[29910:1002284] Warning: Expected min height of view: (<NSPopoverTouchBarItemButton: 0x7f7c221dde40>) to be less than or equal to 30 but got a height of 32.000000. This error will be logged once per view in violation.\n"
     ]
    },
    {
     "name": "stdout",
     "output_type": "stream",
     "text": [
      "Episode reward: -150.96484541472492\n"
     ]
    },
    {
     "name": "stderr",
     "output_type": "stream",
     "text": [
      "2022-05-03 22:36:53.808 python[29910:1002284] Warning: Expected min height of view: (<NSPopoverTouchBarItemButton: 0x7f7c3e8384d0>) to be less than or equal to 30 but got a height of 32.000000. This error will be logged once per view in violation.\n",
      "2022-05-03 22:36:53.809 python[29910:1002284] Warning: Expected min height of view: (<NSButton: 0x7f7c3e8302c0>) to be less than or equal to 30 but got a height of 32.000000. This error will be logged once per view in violation.\n",
      "2022-05-03 22:36:53.811 python[29910:1002284] Warning: Expected min height of view: (<NSPopoverTouchBarItemButton: 0x7f7c3e830a50>) to be less than or equal to 30 but got a height of 32.000000. This error will be logged once per view in violation.\n",
      "2022-05-03 22:36:53.813 python[29910:1002284] Warning: Expected min height of view: (<NSPopoverTouchBarItemButton: 0x7f7c3e831dd0>) to be less than or equal to 30 but got a height of 32.000000. This error will be logged once per view in violation.\n"
     ]
    },
    {
     "name": "stdout",
     "output_type": "stream",
     "text": [
      "Episode reward: -177.6062592207999\n"
     ]
    },
    {
     "name": "stderr",
     "output_type": "stream",
     "text": [
      "2022-05-03 22:37:08.243 python[29910:1002284] Warning: Expected min height of view: (<NSPopoverTouchBarItemButton: 0x7f7c20270c30>) to be less than or equal to 30 but got a height of 32.000000. This error will be logged once per view in violation.\n",
      "2022-05-03 22:37:08.244 python[29910:1002284] Warning: Expected min height of view: (<NSButton: 0x7f7c202391c0>) to be less than or equal to 30 but got a height of 32.000000. This error will be logged once per view in violation.\n",
      "2022-05-03 22:37:08.247 python[29910:1002284] Warning: Expected min height of view: (<NSPopoverTouchBarItemButton: 0x7f7c2026f2e0>) to be less than or equal to 30 but got a height of 32.000000. This error will be logged once per view in violation.\n",
      "2022-05-03 22:37:08.249 python[29910:1002284] Warning: Expected min height of view: (<NSPopoverTouchBarItemButton: 0x7f7c202766e0>) to be less than or equal to 30 but got a height of 32.000000. This error will be logged once per view in violation.\n"
     ]
    },
    {
     "name": "stdout",
     "output_type": "stream",
     "text": [
      "Episode reward: -138.2538589803441\n"
     ]
    },
    {
     "name": "stderr",
     "output_type": "stream",
     "text": [
      "2022-05-03 22:37:23.033 python[29910:1002284] Warning: Expected min height of view: (<NSPopoverTouchBarItemButton: 0x7f7c3d6aede0>) to be less than or equal to 30 but got a height of 32.000000. This error will be logged once per view in violation.\n",
      "2022-05-03 22:37:23.034 python[29910:1002284] Warning: Expected min height of view: (<NSButton: 0x7f7c3d6330a0>) to be less than or equal to 30 but got a height of 32.000000. This error will be logged once per view in violation.\n",
      "2022-05-03 22:37:23.037 python[29910:1002284] Warning: Expected min height of view: (<NSPopoverTouchBarItemButton: 0x7f7c3d633350>) to be less than or equal to 30 but got a height of 32.000000. This error will be logged once per view in violation.\n",
      "2022-05-03 22:37:23.039 python[29910:1002284] Warning: Expected min height of view: (<NSPopoverTouchBarItemButton: 0x7f7c3d633820>) to be less than or equal to 30 but got a height of 32.000000. This error will be logged once per view in violation.\n"
     ]
    },
    {
     "name": "stdout",
     "output_type": "stream",
     "text": [
      "Episode reward: -116.67552478289377\n"
     ]
    },
    {
     "name": "stderr",
     "output_type": "stream",
     "text": [
      "2022-05-03 22:37:37.732 python[29910:1002284] Warning: Expected min height of view: (<NSPopoverTouchBarItemButton: 0x7f7c3d632b50>) to be less than or equal to 30 but got a height of 32.000000. This error will be logged once per view in violation.\n",
      "2022-05-03 22:37:37.733 python[29910:1002284] Warning: Expected min height of view: (<NSButton: 0x7f7c3d69fa20>) to be less than or equal to 30 but got a height of 32.000000. This error will be logged once per view in violation.\n",
      "2022-05-03 22:37:37.735 python[29910:1002284] Warning: Expected min height of view: (<NSPopoverTouchBarItemButton: 0x7f7c3d6a3560>) to be less than or equal to 30 but got a height of 32.000000. This error will be logged once per view in violation.\n",
      "2022-05-03 22:37:37.737 python[29910:1002284] Warning: Expected min height of view: (<NSPopoverTouchBarItemButton: 0x7f7c3d6a3810>) to be less than or equal to 30 but got a height of 32.000000. This error will be logged once per view in violation.\n"
     ]
    },
    {
     "name": "stdout",
     "output_type": "stream",
     "text": [
      "Episode reward: -140.25296537487375\n"
     ]
    },
    {
     "name": "stderr",
     "output_type": "stream",
     "text": [
      "2022-05-03 22:37:51.262 python[29910:1002284] Warning: Expected min height of view: (<NSPopoverTouchBarItemButton: 0x7f7c3d62a2e0>) to be less than or equal to 30 but got a height of 32.000000. This error will be logged once per view in violation.\n",
      "2022-05-03 22:37:51.263 python[29910:1002284] Warning: Expected min height of view: (<NSButton: 0x7f7c3d633cf0>) to be less than or equal to 30 but got a height of 32.000000. This error will be logged once per view in violation.\n",
      "2022-05-03 22:37:51.265 python[29910:1002284] Warning: Expected min height of view: (<NSPopoverTouchBarItemButton: 0x7f7c3d634310>) to be less than or equal to 30 but got a height of 32.000000. This error will be logged once per view in violation.\n",
      "2022-05-03 22:37:51.267 python[29910:1002284] Warning: Expected min height of view: (<NSPopoverTouchBarItemButton: 0x7f7c3d635090>) to be less than or equal to 30 but got a height of 32.000000. This error will be logged once per view in violation.\n"
     ]
    },
    {
     "name": "stdout",
     "output_type": "stream",
     "text": [
      "Episode reward: -138.06980544947282\n"
     ]
    },
    {
     "name": "stderr",
     "output_type": "stream",
     "text": [
      "2022-05-03 22:38:04.948 python[29910:1002284] Warning: Expected min height of view: (<NSPopoverTouchBarItemButton: 0x7f7c202f2570>) to be less than or equal to 30 but got a height of 32.000000. This error will be logged once per view in violation.\n",
      "2022-05-03 22:38:04.949 python[29910:1002284] Warning: Expected min height of view: (<NSButton: 0x7f7c202eda00>) to be less than or equal to 30 but got a height of 32.000000. This error will be logged once per view in violation.\n",
      "2022-05-03 22:38:04.951 python[29910:1002284] Warning: Expected min height of view: (<NSPopoverTouchBarItemButton: 0x7f7c2021d400>) to be less than or equal to 30 but got a height of 32.000000. This error will be logged once per view in violation.\n",
      "2022-05-03 22:38:04.955 python[29910:1002284] Warning: Expected min height of view: (<NSPopoverTouchBarItemButton: 0x7f7c202f47a0>) to be less than or equal to 30 but got a height of 32.000000. This error will be logged once per view in violation.\n"
     ]
    },
    {
     "name": "stdout",
     "output_type": "stream",
     "text": [
      "Episode reward: -137.75797358576705\n"
     ]
    },
    {
     "name": "stderr",
     "output_type": "stream",
     "text": [
      "2022-05-03 22:38:06.732 python[29910:1002284] Warning: Expected min height of view: (<NSPopoverTouchBarItemButton: 0x7f7c3d608e40>) to be less than or equal to 30 but got a height of 32.000000. This error will be logged once per view in violation.\n",
      "2022-05-03 22:38:06.733 python[29910:1002284] Warning: Expected min height of view: (<NSButton: 0x7f7c3d637010>) to be less than or equal to 30 but got a height of 32.000000. This error will be logged once per view in violation.\n",
      "2022-05-03 22:38:06.735 python[29910:1002284] Warning: Expected min height of view: (<NSPopoverTouchBarItemButton: 0x7f7c3d6377a0>) to be less than or equal to 30 but got a height of 32.000000. This error will be logged once per view in violation.\n",
      "2022-05-03 22:38:06.739 python[29910:1002284] Warning: Expected min height of view: (<NSPopoverTouchBarItemButton: 0x7f7c3d638520>) to be less than or equal to 30 but got a height of 32.000000. This error will be logged once per view in violation.\n"
     ]
    },
    {
     "name": "stdout",
     "output_type": "stream",
     "text": [
      "Episode reward: -144.1193954387782\n"
     ]
    },
    {
     "name": "stderr",
     "output_type": "stream",
     "text": [
      "2022-05-03 22:38:08.516 python[29910:1002284] Warning: Expected min height of view: (<NSPopoverTouchBarItemButton: 0x7f7c209df6c0>) to be less than or equal to 30 but got a height of 32.000000. This error will be logged once per view in violation.\n",
      "2022-05-03 22:38:08.517 python[29910:1002284] Warning: Expected min height of view: (<NSButton: 0x7f7c209ef9d0>) to be less than or equal to 30 but got a height of 32.000000. This error will be logged once per view in violation.\n",
      "2022-05-03 22:38:08.520 python[29910:1002284] Warning: Expected min height of view: (<NSPopoverTouchBarItemButton: 0x7f7c209f0160>) to be less than or equal to 30 but got a height of 32.000000. This error will be logged once per view in violation.\n",
      "2022-05-03 22:38:08.522 python[29910:1002284] Warning: Expected min height of view: (<NSPopoverTouchBarItemButton: 0x7f7c209f0ee0>) to be less than or equal to 30 but got a height of 32.000000. This error will be logged once per view in violation.\n"
     ]
    },
    {
     "name": "stdout",
     "output_type": "stream",
     "text": [
      "Episode reward: -144.34303703503875\n"
     ]
    }
   ],
   "source": [
    "agent.visualise()"
   ]
  }
 ],
 "metadata": {
  "kernelspec": {
   "display_name": "Python 3 (ipykernel)",
   "language": "python",
   "name": "python3"
  },
  "language_info": {
   "codemirror_mode": {
    "name": "ipython",
    "version": 3
   },
   "file_extension": ".py",
   "mimetype": "text/x-python",
   "name": "python",
   "nbconvert_exporter": "python",
   "pygments_lexer": "ipython3",
   "version": "3.8.8"
  }
 },
 "nbformat": 4,
 "nbformat_minor": 5
}
