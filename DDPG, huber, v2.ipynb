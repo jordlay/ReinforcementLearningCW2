{
 "cells": [
  {
   "cell_type": "code",
   "execution_count": 1,
   "id": "33fd9c6e",
   "metadata": {},
   "outputs": [],
   "source": [
    "import numpy as np\n",
    "import gym\n",
    "import random\n",
    "import copy\n",
    "from collections import deque\n",
    "\n",
    "import torch\n",
    "import torch.nn as nn\n",
    "import torch.nn.functional as F\n",
    "import torch.optim as optim\n",
    "\n",
    "from matplotlib import pyplot as plt"
   ]
  },
  {
   "cell_type": "code",
   "execution_count": 2,
   "id": "efce3ee2",
   "metadata": {},
   "outputs": [],
   "source": [
    "class Actor(nn.Module):\n",
    "    def __init__(self, scaling, state_size, hidden_size, action_size):\n",
    "        super(Actor, self).__init__()\n",
    "        self.fc1 = nn.Linear(state_size, hidden_size)\n",
    "        self.fc2 = nn.Linear(hidden_size, hidden_size)\n",
    "        self.fc3 = nn.Linear(hidden_size, action_size)\n",
    "        \n",
    "    def forward(self, state):\n",
    "        x = F.relu(self.fc1(state))\n",
    "        x = F.relu(self.fc2(x))\n",
    "        return torch.tanh(self.fc3(x)) * scaling"
   ]
  },
  {
   "cell_type": "code",
   "execution_count": 3,
   "id": "3a71d4c3",
   "metadata": {},
   "outputs": [],
   "source": [
    "class Critic(nn.Module):\n",
    "    def __init__(self, state_size, hidden_size, action_size):\n",
    "        super(Critic, self).__init__()\n",
    "        self.fc1 = nn.Linear(state_size + action_size, hidden_size)\n",
    "        self.fc2 = nn.Linear(hidden_size, hidden_size)\n",
    "        self.fc3 = nn.Linear(hidden_size, 1)\n",
    "    \n",
    "    def forward(self, state, action):\n",
    "        x = torch.cat([state, action], 1)\n",
    "        x = F.relu(self.fc1(x))\n",
    "        x = F.relu(self.fc2(x))\n",
    "        return self.fc3(x)"
   ]
  },
  {
   "cell_type": "code",
   "execution_count": 12,
   "id": "5b4f5cad",
   "metadata": {},
   "outputs": [],
   "source": [
    "class DDPG_Agent():\n",
    "    def __init__(self, scaling, render, buffer_size, batch_size, gamma, tau, noise,\n",
    "                state_size, hidden_size, action_size, actor_lr, critic_lr):\n",
    "        \n",
    "        self.scaling = scaling\n",
    "        self.render = render\n",
    "        self.buffer_size = buffer_size\n",
    "        self.batch_size = batch_size\n",
    "        self.gamma = gamma\n",
    "        self.tau = tau\n",
    "        self.noise = noise\n",
    "        \n",
    "        self.state_size = state_size\n",
    "        self.hidden_size = hidden_size\n",
    "        self.action_size = action_size\n",
    "        self.actor_lr = actor_lr\n",
    "        self.critic_lr = critic_lr\n",
    "        \n",
    "        self.actor = Actor(scaling, state_size, hidden_size, action_size)\n",
    "        self.critic = Critic(state_size, hidden_size, action_size)\n",
    "        self.target_actor = copy.deepcopy(self.actor)\n",
    "        self.target_critic = copy.deepcopy(self.critic)\n",
    "        self.actor_optimizer = torch.optim.Adam(self.actor.parameters(), lr = actor_lr)\n",
    "        self.critic_optimizer = torch.optim.Adam(self.critic.parameters(), lr = critic_lr)\n",
    "        \n",
    "        self.state_memory = []\n",
    "        self.next_state_memory = []\n",
    "        self.action_memory = []\n",
    "        self.reward_memory = []\n",
    "        self.terminal_memory = []\n",
    "        self.memory_counter = 0\n",
    "        \n",
    "    def train(self):\n",
    "        state = env.reset()\n",
    "        ep_reward = 0\n",
    "        num_step = 0\n",
    "        terminal = False\n",
    "        \n",
    "        while not terminal:\n",
    "            \n",
    "            if self.render:\n",
    "                env.render()\n",
    "                \n",
    "            tensor_state = torch.from_numpy(state).float()            \n",
    "            action = self.actor(tensor_state)\n",
    "            action = torch.add(action, torch.from_numpy(np.random.normal(0, self.noise, self.action_size)))\n",
    "            action = action.detach().numpy()\n",
    "            next_state, reward, terminal, _ = env.step(action)\n",
    "            ep_reward += reward\n",
    "\n",
    "            if self.memory_counter < self.buffer_size: \n",
    "                self.state_memory.append(state)\n",
    "                self.next_state_memory.append(next_state)\n",
    "                self.action_memory.append(action)\n",
    "                self.reward_memory.append(reward)\n",
    "                self.terminal_memory.append(1 - terminal) # terminal = 1 if true so 0 if terminal            \n",
    "            else:     \n",
    "                index = self.memory_counter % self.buffer_size\n",
    "                self.state_memory[index] = state\n",
    "                self.next_state_memory[index] = next_state\n",
    "                self.action_memory[index] = action\n",
    "                self.reward_memory[index] = reward\n",
    "                self.terminal_memory[index] = 1 - terminal\n",
    "            self.memory_counter += 1 \n",
    "                \n",
    "            # If more items in memory list than batch size, sample items from each memory list\n",
    "            if self.memory_counter >= self.batch_size: \n",
    "                batch = random.sample(range(len(self.state_memory)), self.batch_size) \n",
    "                states = []\n",
    "                next_states = []\n",
    "                actions = []\n",
    "                rewards = []\n",
    "                terminals = []\n",
    "                \n",
    "                for item in batch:\n",
    "                    states.append(self.state_memory[item])\n",
    "                    next_states.append(self.next_state_memory[item])\n",
    "                    actions.append(self.action_memory[item])\n",
    "                    rewards.append(self.reward_memory[item])\n",
    "                    terminals.append(self.terminal_memory[item])\n",
    "                \n",
    "                # Reformat sample lists \n",
    "                states = np.array(states)\n",
    "                next_states = np.array(next_states)\n",
    "                actions = np.array(actions)\n",
    "                states = torch.tensor(states)\n",
    "                next_states = torch.tensor(next_states)\n",
    "                actions = torch.tensor(actions)\n",
    "                states = states.to(torch.float32) \n",
    "                actions = actions.to(torch.float32) \n",
    "                next_states = next_states.to(torch.float32) \n",
    "                \n",
    "                # Gradient descent on critic prep\n",
    "                target_actions = self.target_actor(next_states)\n",
    "                next_Qtargets = self.target_critic(next_states, target_actions)\n",
    "                Qtargets = []\n",
    "                for i in range(self.batch_size):\n",
    "                    Qtargets.append(rewards[i] + self.gamma * next_Qtargets[i] * terminals[i]) # If next state terminal, will be 0\n",
    "                Qtargets = torch.tensor(Qtargets)\n",
    "                Qtargets = Qtargets.view(self.batch_size, 1)\n",
    "                \n",
    "                # Gradient descent on critic\n",
    "                Qexpected = self.critic(states, actions)\n",
    "                critic_loss = nn.HuberLoss()(Qexpected, Qtargets)\n",
    "                self.critic_optimizer.zero_grad()\n",
    "                critic_loss.backward()\n",
    "                self.critic_optimizer.step()\n",
    "\n",
    "                # Gradient ascent on actor\n",
    "                actions_predicted = self.actor(states)\n",
    "                actor_loss = -self.critic(states, actions_predicted)\n",
    "                actor_loss = torch.mean(actor_loss)\n",
    "                self.actor_optimizer.zero_grad()\n",
    "                actor_loss.backward()\n",
    "                self.actor_optimizer.step()\n",
    "\n",
    "                # Update target networks\n",
    "                with torch.no_grad():\n",
    "                    for target_parameter, parameter in zip(self.target_critic.parameters(), self.critic.parameters()):\n",
    "                        target_parameter.copy_((target_parameter * (1 - self.tau)) + (parameter * self.tau))                    \n",
    "\n",
    "                with torch.no_grad():\n",
    "                    for target_parameter, parameter in zip(self.target_actor.parameters(), self.actor.parameters()):\n",
    "                        target_parameter.copy_((target_parameter * (1 - self.tau)) + (parameter * self.tau))   \n",
    "                \n",
    "            state = next_state\n",
    "            num_step += 1\n",
    "            \n",
    "        if self.render:\n",
    "            env.close()\n",
    "            \n",
    "        return ep_reward\n",
    "    \n",
    "    def test(self):\n",
    "        \n",
    "        scores = []\n",
    "        \n",
    "        for i in range(100):\n",
    "            state = env.reset()\n",
    "            terminal = False\n",
    "            ep_reward = 0\n",
    "\n",
    "            while not terminal:\n",
    "                tensor_state = torch.from_numpy(state).float()\n",
    "                action = self.actor(tensor_state)\n",
    "                action = torch.add(action, torch.from_numpy(np.random.normal(0, self.noise, self.action_size)))\n",
    "                action = action.detach().numpy()\n",
    "                next_state, reward, terminal, _ = env.step(action)\n",
    "                ep_reward += reward \n",
    "                state = next_state\n",
    "                \n",
    "            print('Episode reward:', ep_reward)\n",
    "            scores.append(ep_reward)\n",
    "            \n",
    "        print('Scores during testing')\n",
    "        x = [i for i in range(1, len(scores)+1)]\n",
    "        plt.plot(x, scores)\n",
    "        plt.ylabel('Score')\n",
    "        plt.xlabel('Episodes')\n",
    "        plt.show()\n",
    "\n",
    "    def visualise(self):\n",
    "        for i in range(5):\n",
    "            state = env.reset()\n",
    "            terminal = False\n",
    "            ep_reward = 0\n",
    "\n",
    "            while not terminal:\n",
    "                env.render()\n",
    "                tensor_state = torch.from_numpy(state).float()\n",
    "                action = self.actor(tensor_state)\n",
    "                action = torch.add(action, torch.from_numpy(np.random.normal(0, self.noise, self.action_size)))\n",
    "                action = action.detach().numpy()\n",
    "                next_state, reward, terminal, _ = env.step(action)\n",
    "                ep_reward += reward \n",
    "                state = next_state\n",
    "\n",
    "            print('Episode reward:', ep_reward)\n",
    "            env.close()"
   ]
  },
  {
   "cell_type": "code",
   "execution_count": 14,
   "id": "792bd6ca",
   "metadata": {
    "scrolled": false
   },
   "outputs": [
    {
     "name": "stdout",
     "output_type": "stream",
     "text": [
      "Episode: 1/6 Score: -112.126 \t Mean score over last 2 episodes: -112.126\n",
      "Episode: 2/6 Score: -129.360 \t Mean score over last 2 episodes: -120.743\n",
      "Episode: 3/6 Score: -119.361 \t Mean score over last 2 episodes: -124.361\n",
      "Episode: 4/6 Score: -118.165 \t Mean score over last 2 episodes: -118.763\n",
      "Episode: 5/6 Score: -116.872 \t Mean score over last 2 episodes: -117.518\n",
      "Episode: 6/6 Score: -111.856 \t Mean score over last 2 episodes: -114.364\n",
      "*************************************************************\n",
      "Agent 1 complete \t mean score of agent: -117.96\n",
      "*************************************************************\n",
      "Episode: 1/6 Score: -92.146 \t Mean score over last 2 episodes: -92.146\n",
      "Episode: 2/6 Score: -102.203 \t Mean score over last 2 episodes: -97.174\n",
      "Episode: 3/6 Score: -127.682 \t Mean score over last 2 episodes: -114.942\n",
      "Episode: 4/6 Score: -101.154 \t Mean score over last 2 episodes: -114.418\n",
      "Episode: 5/6 Score: -58.635 \t Mean score over last 2 episodes: -79.895\n",
      "Episode: 6/6 Score: -64.904 \t Mean score over last 2 episodes: -61.770\n",
      "*************************************************************\n",
      "Agent 2 complete \t mean score of agent: -91.12\n",
      "*************************************************************\n",
      "Scores during training\n"
     ]
    },
    {
     "data": {
      "image/png": "[encoded data removed]",
      "text/plain": [
       "<Figure size 432x288 with 1 Axes>"
      ]
     },
     "metadata": {
      "needs_background": "light"
     },
     "output_type": "display_data"
    },
    {
     "name": "stdout",
     "output_type": "stream",
     "text": [
      "Mean score of last 2 episodes during training\n"
     ]
    },
    {
     "data": {
      "image/png": "[encoded data removed]",
      "text/plain": [
       "<Figure size 432x288 with 1 Axes>"
      ]
     },
     "metadata": {
      "needs_background": "light"
     },
     "output_type": "display_data"
    }
   ],
   "source": [
    "environment = 'BipedalWalker-v3' # Change environment name here\n",
    "env = gym.make(environment)\n",
    "\n",
    "if environment == 'Pendulum-v1':\n",
    "    scaling = 2\n",
    "elif environment == 'LunarLanderContinuous-v2' or 'BipedalWalker-v3' or 'BipedalWalkerHardcore-v3':\n",
    "    scaling = 1\n",
    "\n",
    "agents = 2\n",
    "episodes = 2000\n",
    "all_scores = []\n",
    "all_moving_means = [] # Mean score of the last X episodes\n",
    "previous = 100 # Set value of X \n",
    "\n",
    "for i in range(1, agents + 1):\n",
    "    \n",
    "    agent = DDPG_Agent(scaling = scaling, render = False, buffer_size = 1000000, batch_size = 100, gamma = 0.99, tau = 0.001, noise = 0.05,\n",
    "                state_size = env.observation_space.shape[0], hidden_size = 300, action_size = env.action_space.shape[0], actor_lr = 0.0001, critic_lr = 0.001)\n",
    "    agent_scores = []\n",
    "    agent_moving_means = []\n",
    "    \n",
    "    for j in range(1, episodes + 1):\n",
    "        \n",
    "        ep_reward = agent.train()\n",
    "        agent_scores.append(ep_reward)\n",
    "        agent_moving_means.append(np.mean(agent_scores[-previous:])) \n",
    "        \n",
    "        if j % 100 == 0: # How often to print\n",
    "            print('Episode: {}/{} Score: {:.3f} \\t Mean score over last {} episodes: {:.3f}'.format(j, episodes, ep_reward, previous, agent_moving_means[j-1])) \n",
    "            \n",
    "    print('*************************************************************')\n",
    "    print('Agent {} complete \\t Mean score of agent: {:.2f}'.format(i, np.mean(agent_scores))) \n",
    "    print('*************************************************************')\n",
    "    all_scores.append(agent_scores)\n",
    "    all_moving_means.append(agent_moving_means)\n",
    "\n",
    "all_scores = np.array(all_scores)\n",
    "average_score = all_scores.mean(0) # Average the scores across agents\n",
    "x = [i for i in range(1, len(average_score) + 1)]\n",
    "print('Scores during training')\n",
    "plt.plot(x, average_score)\n",
    "plt.ylabel('Score averaged across agents')\n",
    "plt.xlabel('Episodes')              \n",
    "plt.show()\n",
    "\n",
    "all_moving_means = np.array(all_moving_means)\n",
    "average_moving_mean = all_moving_means.mean(0) # Average the means across agents\n",
    "x = [i for i in range(1, len(average_moving_mean) + 1)]\n",
    "print('Mean score of last {} episodes during training'.format(previous))\n",
    "plt.plot(x, average_moving_mean)\n",
    "plt.ylabel('Mean score of last {} episodes averaged across agents'.format(previous))       \n",
    "plt.xlabel('Episodes')\n",
    "plt.show()"
   ]
  },
  {
   "cell_type": "code",
   "execution_count": 15,
   "id": "88b20cb9",
   "metadata": {
    "scrolled": true
   },
   "outputs": [
    {
     "name": "stdout",
     "output_type": "stream",
     "text": [
      "Episode reward: -111.10885674963713\n",
      "Episode reward: -44.11096226343249\n",
      "Episode reward: -111.23785381684496\n",
      "Episode reward: -111.18136344529019\n",
      "Episode reward: -43.803599158491814\n",
      "Scores during testing\n"
     ]
    },
    {
     "data": {
      "image/png": "[encoded data removed]",
      "text/plain": [
       "<Figure size 432x288 with 1 Axes>"
      ]
     },
     "metadata": {
      "needs_background": "light"
     },
     "output_type": "display_data"
    }
   ],
   "source": [
    "agent.test()"
   ]
  },
  {
   "cell_type": "code",
   "execution_count": 7,
   "id": "984c6a5a",
   "metadata": {},
   "outputs": [
    {
     "name": "stderr",
     "output_type": "stream",
     "text": [
      "2022-05-03 00:08:49.661 python[15421:443038] Warning: Expected min height of view: (<NSPopoverTouchBarItemButton: 0x7fdda25361e0>) to be less than or equal to 30 but got a height of 32.000000. This error will be logged once per view in violation.\n",
      "2022-05-03 00:08:49.662 python[15421:443038] Warning: Expected min height of view: (<NSButton: 0x7fdda233aca0>) to be less than or equal to 30 but got a height of 32.000000. This error will be logged once per view in violation.\n",
      "2022-05-03 00:08:49.664 python[15421:443038] Warning: Expected min height of view: (<NSPopoverTouchBarItemButton: 0x7fdda233b930>) to be less than or equal to 30 but got a height of 32.000000. This error will be logged once per view in violation.\n",
      "2022-05-03 00:08:49.666 python[15421:443038] Warning: Expected min height of view: (<NSPopoverTouchBarItemButton: 0x7fdda233dfd0>) to be less than or equal to 30 but got a height of 32.000000. This error will be logged once per view in violation.\n"
     ]
    },
    {
     "name": "stdout",
     "output_type": "stream",
     "text": [
      "Episode reward: -111.47853164299565\n"
     ]
    },
    {
     "name": "stderr",
     "output_type": "stream",
     "text": [
      "2022-05-03 00:08:50.568 python[15421:443038] Warning: Expected min height of view: (<NSPopoverTouchBarItemButton: 0x7fdda23405a0>) to be less than or equal to 30 but got a height of 32.000000. This error will be logged once per view in violation.\n",
      "2022-05-03 00:08:50.568 python[15421:443038] Warning: Expected min height of view: (<NSButton: 0x7fdda2355a30>) to be less than or equal to 30 but got a height of 32.000000. This error will be logged once per view in violation.\n",
      "2022-05-03 00:08:50.571 python[15421:443038] Warning: Expected min height of view: (<NSPopoverTouchBarItemButton: 0x7fdda2355ce0>) to be less than or equal to 30 but got a height of 32.000000. This error will be logged once per view in violation.\n",
      "2022-05-03 00:08:50.573 python[15421:443038] Warning: Expected min height of view: (<NSPopoverTouchBarItemButton: 0x7fdda251f4c0>) to be less than or equal to 30 but got a height of 32.000000. This error will be logged once per view in violation.\n"
     ]
    },
    {
     "name": "stdout",
     "output_type": "stream",
     "text": [
      "Episode reward: -109.56220698002551\n"
     ]
    },
    {
     "name": "stderr",
     "output_type": "stream",
     "text": [
      "2022-05-03 00:08:51.308 python[15421:443038] Warning: Expected min height of view: (<NSPopoverTouchBarItemButton: 0x7fdda0081a40>) to be less than or equal to 30 but got a height of 32.000000. This error will be logged once per view in violation.\n",
      "2022-05-03 00:08:51.309 python[15421:443038] Warning: Expected min height of view: (<NSButton: 0x7fdda0093ce0>) to be less than or equal to 30 but got a height of 32.000000. This error will be logged once per view in violation.\n",
      "2022-05-03 00:08:51.311 python[15421:443038] Warning: Expected min height of view: (<NSPopoverTouchBarItemButton: 0x7fdda0094470>) to be less than or equal to 30 but got a height of 32.000000. This error will be logged once per view in violation.\n",
      "2022-05-03 00:08:51.313 python[15421:443038] Warning: Expected min height of view: (<NSPopoverTouchBarItemButton: 0x7fdda00957f0>) to be less than or equal to 30 but got a height of 32.000000. This error will be logged once per view in violation.\n"
     ]
    },
    {
     "name": "stdout",
     "output_type": "stream",
     "text": [
      "Episode reward: -109.18534111151924\n"
     ]
    },
    {
     "name": "stderr",
     "output_type": "stream",
     "text": [
      "2022-05-03 00:08:51.974 python[15421:443038] Warning: Expected min height of view: (<NSPopoverTouchBarItemButton: 0x7fdda243ac30>) to be less than or equal to 30 but got a height of 32.000000. This error will be logged once per view in violation.\n",
      "2022-05-03 00:08:51.974 python[15421:443038] Warning: Expected min height of view: (<NSButton: 0x7fdda243f890>) to be less than or equal to 30 but got a height of 32.000000. This error will be logged once per view in violation.\n",
      "2022-05-03 00:08:51.976 python[15421:443038] Warning: Expected min height of view: (<NSPopoverTouchBarItemButton: 0x7fdda2440020>) to be less than or equal to 30 but got a height of 32.000000. This error will be logged once per view in violation.\n",
      "2022-05-03 00:08:51.978 python[15421:443038] Warning: Expected min height of view: (<NSPopoverTouchBarItemButton: 0x7fdda2440da0>) to be less than or equal to 30 but got a height of 32.000000. This error will be logged once per view in violation.\n"
     ]
    },
    {
     "name": "stdout",
     "output_type": "stream",
     "text": [
      "Episode reward: -108.0833067865128\n"
     ]
    },
    {
     "name": "stderr",
     "output_type": "stream",
     "text": [
      "2022-05-03 00:08:52.614 python[15421:443038] Warning: Expected min height of view: (<NSPopoverTouchBarItemButton: 0x7fdda00aeb60>) to be less than or equal to 30 but got a height of 32.000000. This error will be logged once per view in violation.\n",
      "2022-05-03 00:08:52.614 python[15421:443038] Warning: Expected min height of view: (<NSButton: 0x7fdda0085df0>) to be less than or equal to 30 but got a height of 32.000000. This error will be logged once per view in violation.\n",
      "2022-05-03 00:08:52.616 python[15421:443038] Warning: Expected min height of view: (<NSPopoverTouchBarItemButton: 0x7fdda2439e60>) to be less than or equal to 30 but got a height of 32.000000. This error will be logged once per view in violation.\n",
      "2022-05-03 00:08:52.618 python[15421:443038] Warning: Expected min height of view: (<NSPopoverTouchBarItemButton: 0x7fdda243ebb0>) to be less than or equal to 30 but got a height of 32.000000. This error will be logged once per view in violation.\n"
     ]
    },
    {
     "name": "stdout",
     "output_type": "stream",
     "text": [
      "Episode reward: -110.62658544410377\n"
     ]
    }
   ],
   "source": [
    "agent.visualise()"
   ]
  }
 ],
 "metadata": {
  "kernelspec": {
   "display_name": "Python 3 (ipykernel)",
   "language": "python",
   "name": "python3"
  },
  "language_info": {
   "codemirror_mode": {
    "name": "ipython",
    "version": 3
   },
   "file_extension": ".py",
   "mimetype": "text/x-python",
   "name": "python",
   "nbconvert_exporter": "python",
   "pygments_lexer": "ipython3",
   "version": "3.8.8"
  }
 },
 "nbformat": 4,
 "nbformat_minor": 5
}
