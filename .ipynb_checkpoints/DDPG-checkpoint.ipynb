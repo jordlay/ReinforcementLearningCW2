{
 "cells": [
  {
   "cell_type": "code",
   "execution_count": 8,
   "id": "a69d43a5",
   "metadata": {},
   "outputs": [],
   "source": [
    "import torch\n",
    "import torch.nn as nn\n",
    "import torch.nn.functional as F\n",
    "import numpy as np\n",
    "import gym\n",
    "from torch.autograd import Variable"
   ]
  },
  {
   "cell_type": "code",
   "execution_count": 9,
   "id": "05acf655",
   "metadata": {},
   "outputs": [],
   "source": [
    "M = 1\n",
    "learning_rate = 0.001\n",
    "noise = 0.01\n",
    "batch_size = 50"
   ]
  },
  {
   "cell_type": "code",
   "execution_count": 10,
   "id": "9d2a03d1",
   "metadata": {},
   "outputs": [],
   "source": [
    "class Step():\n",
    "    def __init__(self,state,action,reward,next_state):\n",
    "        self.attributes = [state,action,reward,next_state]"
   ]
  },
  {
   "cell_type": "code",
   "execution_count": 11,
   "id": "6955aa27",
   "metadata": {},
   "outputs": [],
   "source": [
    "class Critic(nn.Module):\n",
    "    def __init__(self):\n",
    "        super(Critic, self).__init__()\n",
    "        self.layer1 = nn.Linear(3,64)\n",
    "        self.layer2 = nn.Linear(64,128)\n",
    "        self.layer3 = nn.Linear(128,1)\n",
    "    \n",
    "    def forward(self,x):\n",
    "        x = F.relu(self.layer1(x))\n",
    "        x = F.relu(self.layer2(x))\n",
    "        x = F.tanh(self.layer3(x))\n",
    "        return x\n",
    "        \n",
    "class Actor(nn.Module):\n",
    "    def __init__(self):\n",
    "        super(Actor, self).__init__()\n",
    "        self.layer1 = nn.Linear(3,64)\n",
    "        self.layer2 = nn.Linear(64,128)\n",
    "        self.layer3 = nn.Linear(128,1)\n",
    "        \n",
    "    def forward(self,x):\n",
    "        x = F.relu(self.layer1(x))\n",
    "        x = F.relu(self.layer2(x))\n",
    "        x = F.tanh(self.layer3(x))\n",
    "        return x"
   ]
  },
  {
   "cell_type": "code",
   "execution_count": 12,
   "id": "07694e30",
   "metadata": {},
   "outputs": [],
   "source": [
    "critic = Critic()\n",
    "actor = Actor()\n",
    "\n",
    "#target_critic = copy.deepcopy(critic)\n",
    "#target_actor = copy.deepcopy(actor)"
   ]
  },
  {
   "cell_type": "code",
   "execution_count": 13,
   "id": "5d68a1b2",
   "metadata": {},
   "outputs": [],
   "source": [
    "env = gym.make('Pendulum-v0')\n",
    "episode = []"
   ]
  },
  {
   "cell_type": "code",
   "execution_count": 14,
   "id": "96ae0e41",
   "metadata": {},
   "outputs": [
    {
     "name": "stderr",
     "output_type": "stream",
     "text": [
      "C:\\Users\\Matth\\miniconda3\\lib\\site-packages\\torch\\nn\\functional.py:1795: UserWarning: nn.functional.tanh is deprecated. Use torch.tanh instead.\n",
      "  warnings.warn(\"nn.functional.tanh is deprecated. Use torch.tanh instead.\")\n",
      "C:\\Users\\Matth\\miniconda3\\lib\\site-packages\\pyglet\\image\\codecs\\wic.py:289: UserWarning: [WinError -2147417850] Cannot change thread mode after it is set\n",
      "  warnings.warn(str(err))\n",
      "C:\\Users\\Matth\\miniconda3\\lib\\site-packages\\ipykernel_launcher.py:28: FutureWarning: The input object of type 'Tensor' is an array-like implementing one of the corresponding protocols (`__array__`, `__array_interface__` or `__array_struct__`); but not a sequence (or 0-D). In the future, this object will be coerced as if it was first converted using `np.array(obj)`. To retain the old behaviour, you have to either modify the type 'Tensor', or assign to an empty array created with `np.empty(correct_shape, dtype=object)`.\n",
      "C:\\Users\\Matth\\miniconda3\\lib\\site-packages\\ipykernel_launcher.py:28: VisibleDeprecationWarning: Creating an ndarray from ragged nested sequences (which is a list-or-tuple of lists-or-tuples-or ndarrays with different lengths or shapes) is deprecated. If you meant to do this, you must specify 'dtype=object' when creating the ndarray.\n"
     ]
    }
   ],
   "source": [
    "for _ in range(M):\n",
    "    \n",
    "    \n",
    "    state = env.reset()\n",
    "    state = Variable(torch.from_numpy(state).float())\n",
    "    \n",
    "    terminal = False\n",
    "    while not terminal:\n",
    "        \n",
    "        action = actor(state) * 2\n",
    "        action = action.item()\n",
    "        action += (noise * np.random.randn())\n",
    "        \n",
    "        next_state, reward, terminal, _ = env.step([action])\n",
    "        \n",
    "        transition = Step(state, action, reward, next_state)\n",
    "        episode.append(transition)\n",
    "        \n",
    "        #env.render()\n",
    "        \n",
    "        if batch_size < len(episode):\n",
    "            \n",
    "            batch = np.random.choice(episode,batch_size)\n",
    "            batch_matrix = []\n",
    "            \n",
    "            for step in batch:\n",
    "                batch_matrix.append(step.attributes)\n",
    "            \n",
    "            batch_matrix = np.array(batch_matrix)\n",
    "            "
   ]
  },
  {
   "cell_type": "code",
   "execution_count": null,
   "id": "f2f262ca",
   "metadata": {},
   "outputs": [],
   "source": []
  }
 ],
 "metadata": {
  "kernelspec": {
   "display_name": "Python 3",
   "language": "python",
   "name": "python3"
  },
  "language_info": {
   "codemirror_mode": {
    "name": "ipython",
    "version": 3
   },
   "file_extension": ".py",
   "mimetype": "text/x-python",
   "name": "python",
   "nbconvert_exporter": "python",
   "pygments_lexer": "ipython3",
   "version": "3.7.7"
  }
 },
 "nbformat": 4,
 "nbformat_minor": 5
}
